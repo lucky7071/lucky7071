{
 "cells": [
  {
   "cell_type": "markdown",
   "id": "0bfbebb7",
   "metadata": {},
   "source": [
    "<div class=\"alert alert-success\">\n",
    "<font size=\"5\"><b>Комментарий ревьюера 4</b></font>\n",
    "\n",
    "Привет. Далее не буду мучить, с учетом того, что на первой итерации ты получил правильный ответ. Ты поменял структуру таблицы, поэтому предыдущий вариант обращения к таблице не работает. Тебе нужен метод loc. Показал пример в соответствующем блоке. В следующем проекте будет большая практика с работой над сводными таблицами. Надеюсь, оставленные тут советы тебе будут полезны. Поздравляю со сданным проектом. Надеюсь, он был интересен и познавателен. Успехов в дальнейшем пути :)\n",
    "\n",
    "</div>"
   ]
  },
  {
   "cell_type": "markdown",
   "id": "060a6d06",
   "metadata": {},
   "source": [
    "<div class=\"alert alert-info\">\n",
    "<font size=\"5\"><b>Комментарий ревьюера 3</b></font>\n",
    "\n",
    "Привет. Оформление комментариев по работе сохраняется. Только обозначим, что это третья итерация. Оставил более подробный комментарий по свводным таблицам. Если есть непонимание какого-либо пункта, то задавай вопросы. Так будет проще разобраться. Буду ждать твой проект :)\n",
    "\n",
    "</div>"
   ]
  },
  {
   "cell_type": "markdown",
   "id": "4c737a37",
   "metadata": {},
   "source": [
    "<div class=\"alert alert-info\">\n",
    "<font size=\"5\"><b>Комментарий ревьюера 2</b></font>\n",
    "\n",
    "Привет еще раз. Спасибо, что доделал работу. Оформление комментариев по работе сохраняется. Только обозначим, что это вторая итерация. \n",
    "\n",
    "</div>"
   ]
  },
  {
   "cell_type": "markdown",
   "id": "0d84e9a5",
   "metadata": {},
   "source": [
    "<div class=\"alert alert-info\">\n",
    "<font size=\"5\"><b>Комментарий ревьюера</b></font>\n",
    "\n",
    "Привет, Дмитрий! Спасибо, что прислал задание:) Меня зовут Слепцов Артем и я буду проверять твой проект) Ты проделал большую работу над проектом. Будет здорово, если ты, надеюсь, не против, если я буду на ты, будешь отвечать на комментарии и участвовать в диалоге. Если обращение на ты неприемлемо, то прошу сообщить. \n",
    "\n",
    "Мои комментарии обозначены пометкой **Комментарий ревьюера**. Далее в файле ты сможешь найти их в похожих ячейках:\n",
    "    \n",
    "<div class=\"alert alert-success\">Успех: Если фон комментария зелёный - всё сделано правильно. Рекомендации укажу таким же цветом;</div>\n",
    "        \n",
    "<div class=\"alert alert-warning\">Совет: Оранжевый - некритичные замечания;</div>\n",
    "        \n",
    "<div class=\"alert alert-danger\">Ошибка: Красный - нужно переделать. </div>\n",
    "        \n",
    "Не удаляй эти комментарии и постарайся учесть их в ходе выполнения данного проекта. Свои же комментарии ты можешь обозначать любым заметным способом. \n",
    "\n",
    "</div>"
   ]
  },
  {
   "cell_type": "markdown",
   "id": "71759dba",
   "metadata": {
    "deletable": false,
    "editable": false,
    "id": "c81daeeb"
   },
   "source": [
    "# Исследование надежности заемщиков\n"
   ]
  },
  {
   "cell_type": "markdown",
   "id": "a6b7a982",
   "metadata": {
    "deletable": false,
    "editable": false,
    "id": "827c20bf"
   },
   "source": [
    "Во второй части проекта вы выполните шаги 3 и 4. Их вручную проверит ревьюер.\n",
    "Чтобы вам не пришлось писать код заново для шагов 1 и 2, мы добавили авторские решения в ячейки с кодом. \n",
    "\n"
   ]
  },
  {
   "cell_type": "markdown",
   "id": "50770a87",
   "metadata": {
    "deletable": false,
    "editable": false,
    "id": "744d7639"
   },
   "source": [
    "## Откройте таблицу и изучите общую информацию о данных"
   ]
  },
  {
   "cell_type": "markdown",
   "id": "d94b1735",
   "metadata": {
    "deletable": false,
    "editable": false,
    "id": "e7a14c31"
   },
   "source": [
    "**Задание 1. Импортируйте библиотеку pandas. Считайте данные из csv-файла в датафрейм и сохраните в переменную `data`. Путь к файлу:**\n",
    "\n",
    "`/datasets/data.csv`"
   ]
  },
  {
   "cell_type": "markdown",
   "id": "c514b9fa",
   "metadata": {},
   "source": [
    "<div class=\"alert alert-warning\">\n",
    "<font size=\"5\"><b>Комментарий ревьюера</b></font>\n",
    "\n",
    "Совет: Я заметил, что ячейки в твоей тетрадке начинаются не с 1. Перед отправкой работы рекомендую перезапускать ноутбук, чтобы убедиться, что все ячейки выполняются корректно.\n",
    "\n",
    "</div>"
   ]
  },
  {
   "cell_type": "code",
   "execution_count": 1,
   "id": "6c6d6152",
   "metadata": {
    "deletable": false,
    "id": "7bcf75c9"
   },
   "outputs": [],
   "source": [
    "import pandas as pd\n",
    "data = pd.read_csv('/datasets/data.csv')"
   ]
  },
  {
   "cell_type": "markdown",
   "id": "1a80c45e",
   "metadata": {
    "deletable": false,
    "editable": false,
    "id": "b8038fe3"
   },
   "source": [
    "**Задание 2. Выведите первые 20 строчек датафрейма `data` на экран.**"
   ]
  },
  {
   "cell_type": "code",
   "execution_count": 2,
   "id": "87747c28",
   "metadata": {
    "deletable": false,
    "id": "2a7cab99",
    "outputId": "1a8f3ef2-d323-4ec2-ddf7-89670b5944c4"
   },
   "outputs": [
    {
     "data": {
      "text/html": [
       "<div>\n",
       "<style scoped>\n",
       "    .dataframe tbody tr th:only-of-type {\n",
       "        vertical-align: middle;\n",
       "    }\n",
       "\n",
       "    .dataframe tbody tr th {\n",
       "        vertical-align: top;\n",
       "    }\n",
       "\n",
       "    .dataframe thead th {\n",
       "        text-align: right;\n",
       "    }\n",
       "</style>\n",
       "<table border=\"1\" class=\"dataframe\">\n",
       "  <thead>\n",
       "    <tr style=\"text-align: right;\">\n",
       "      <th></th>\n",
       "      <th>children</th>\n",
       "      <th>days_employed</th>\n",
       "      <th>dob_years</th>\n",
       "      <th>education</th>\n",
       "      <th>education_id</th>\n",
       "      <th>family_status</th>\n",
       "      <th>family_status_id</th>\n",
       "      <th>gender</th>\n",
       "      <th>income_type</th>\n",
       "      <th>debt</th>\n",
       "      <th>total_income</th>\n",
       "      <th>purpose</th>\n",
       "    </tr>\n",
       "  </thead>\n",
       "  <tbody>\n",
       "    <tr>\n",
       "      <th>0</th>\n",
       "      <td>1</td>\n",
       "      <td>-8437.673028</td>\n",
       "      <td>42</td>\n",
       "      <td>высшее</td>\n",
       "      <td>0</td>\n",
       "      <td>женат / замужем</td>\n",
       "      <td>0</td>\n",
       "      <td>F</td>\n",
       "      <td>сотрудник</td>\n",
       "      <td>0</td>\n",
       "      <td>253875.639453</td>\n",
       "      <td>покупка жилья</td>\n",
       "    </tr>\n",
       "    <tr>\n",
       "      <th>1</th>\n",
       "      <td>1</td>\n",
       "      <td>-4024.803754</td>\n",
       "      <td>36</td>\n",
       "      <td>среднее</td>\n",
       "      <td>1</td>\n",
       "      <td>женат / замужем</td>\n",
       "      <td>0</td>\n",
       "      <td>F</td>\n",
       "      <td>сотрудник</td>\n",
       "      <td>0</td>\n",
       "      <td>112080.014102</td>\n",
       "      <td>приобретение автомобиля</td>\n",
       "    </tr>\n",
       "    <tr>\n",
       "      <th>2</th>\n",
       "      <td>0</td>\n",
       "      <td>-5623.422610</td>\n",
       "      <td>33</td>\n",
       "      <td>Среднее</td>\n",
       "      <td>1</td>\n",
       "      <td>женат / замужем</td>\n",
       "      <td>0</td>\n",
       "      <td>M</td>\n",
       "      <td>сотрудник</td>\n",
       "      <td>0</td>\n",
       "      <td>145885.952297</td>\n",
       "      <td>покупка жилья</td>\n",
       "    </tr>\n",
       "    <tr>\n",
       "      <th>3</th>\n",
       "      <td>3</td>\n",
       "      <td>-4124.747207</td>\n",
       "      <td>32</td>\n",
       "      <td>среднее</td>\n",
       "      <td>1</td>\n",
       "      <td>женат / замужем</td>\n",
       "      <td>0</td>\n",
       "      <td>M</td>\n",
       "      <td>сотрудник</td>\n",
       "      <td>0</td>\n",
       "      <td>267628.550329</td>\n",
       "      <td>дополнительное образование</td>\n",
       "    </tr>\n",
       "    <tr>\n",
       "      <th>4</th>\n",
       "      <td>0</td>\n",
       "      <td>340266.072047</td>\n",
       "      <td>53</td>\n",
       "      <td>среднее</td>\n",
       "      <td>1</td>\n",
       "      <td>гражданский брак</td>\n",
       "      <td>1</td>\n",
       "      <td>F</td>\n",
       "      <td>пенсионер</td>\n",
       "      <td>0</td>\n",
       "      <td>158616.077870</td>\n",
       "      <td>сыграть свадьбу</td>\n",
       "    </tr>\n",
       "    <tr>\n",
       "      <th>5</th>\n",
       "      <td>0</td>\n",
       "      <td>-926.185831</td>\n",
       "      <td>27</td>\n",
       "      <td>высшее</td>\n",
       "      <td>0</td>\n",
       "      <td>гражданский брак</td>\n",
       "      <td>1</td>\n",
       "      <td>M</td>\n",
       "      <td>компаньон</td>\n",
       "      <td>0</td>\n",
       "      <td>255763.565419</td>\n",
       "      <td>покупка жилья</td>\n",
       "    </tr>\n",
       "    <tr>\n",
       "      <th>6</th>\n",
       "      <td>0</td>\n",
       "      <td>-2879.202052</td>\n",
       "      <td>43</td>\n",
       "      <td>высшее</td>\n",
       "      <td>0</td>\n",
       "      <td>женат / замужем</td>\n",
       "      <td>0</td>\n",
       "      <td>F</td>\n",
       "      <td>компаньон</td>\n",
       "      <td>0</td>\n",
       "      <td>240525.971920</td>\n",
       "      <td>операции с жильем</td>\n",
       "    </tr>\n",
       "    <tr>\n",
       "      <th>7</th>\n",
       "      <td>0</td>\n",
       "      <td>-152.779569</td>\n",
       "      <td>50</td>\n",
       "      <td>СРЕДНЕЕ</td>\n",
       "      <td>1</td>\n",
       "      <td>женат / замужем</td>\n",
       "      <td>0</td>\n",
       "      <td>M</td>\n",
       "      <td>сотрудник</td>\n",
       "      <td>0</td>\n",
       "      <td>135823.934197</td>\n",
       "      <td>образование</td>\n",
       "    </tr>\n",
       "    <tr>\n",
       "      <th>8</th>\n",
       "      <td>2</td>\n",
       "      <td>-6929.865299</td>\n",
       "      <td>35</td>\n",
       "      <td>ВЫСШЕЕ</td>\n",
       "      <td>0</td>\n",
       "      <td>гражданский брак</td>\n",
       "      <td>1</td>\n",
       "      <td>F</td>\n",
       "      <td>сотрудник</td>\n",
       "      <td>0</td>\n",
       "      <td>95856.832424</td>\n",
       "      <td>на проведение свадьбы</td>\n",
       "    </tr>\n",
       "    <tr>\n",
       "      <th>9</th>\n",
       "      <td>0</td>\n",
       "      <td>-2188.756445</td>\n",
       "      <td>41</td>\n",
       "      <td>среднее</td>\n",
       "      <td>1</td>\n",
       "      <td>женат / замужем</td>\n",
       "      <td>0</td>\n",
       "      <td>M</td>\n",
       "      <td>сотрудник</td>\n",
       "      <td>0</td>\n",
       "      <td>144425.938277</td>\n",
       "      <td>покупка жилья для семьи</td>\n",
       "    </tr>\n",
       "    <tr>\n",
       "      <th>10</th>\n",
       "      <td>2</td>\n",
       "      <td>-4171.483647</td>\n",
       "      <td>36</td>\n",
       "      <td>высшее</td>\n",
       "      <td>0</td>\n",
       "      <td>женат / замужем</td>\n",
       "      <td>0</td>\n",
       "      <td>M</td>\n",
       "      <td>компаньон</td>\n",
       "      <td>0</td>\n",
       "      <td>113943.491460</td>\n",
       "      <td>покупка недвижимости</td>\n",
       "    </tr>\n",
       "    <tr>\n",
       "      <th>11</th>\n",
       "      <td>0</td>\n",
       "      <td>-792.701887</td>\n",
       "      <td>40</td>\n",
       "      <td>среднее</td>\n",
       "      <td>1</td>\n",
       "      <td>женат / замужем</td>\n",
       "      <td>0</td>\n",
       "      <td>F</td>\n",
       "      <td>сотрудник</td>\n",
       "      <td>0</td>\n",
       "      <td>77069.234271</td>\n",
       "      <td>покупка коммерческой недвижимости</td>\n",
       "    </tr>\n",
       "    <tr>\n",
       "      <th>12</th>\n",
       "      <td>0</td>\n",
       "      <td>NaN</td>\n",
       "      <td>65</td>\n",
       "      <td>среднее</td>\n",
       "      <td>1</td>\n",
       "      <td>гражданский брак</td>\n",
       "      <td>1</td>\n",
       "      <td>M</td>\n",
       "      <td>пенсионер</td>\n",
       "      <td>0</td>\n",
       "      <td>NaN</td>\n",
       "      <td>сыграть свадьбу</td>\n",
       "    </tr>\n",
       "    <tr>\n",
       "      <th>13</th>\n",
       "      <td>0</td>\n",
       "      <td>-1846.641941</td>\n",
       "      <td>54</td>\n",
       "      <td>неоконченное высшее</td>\n",
       "      <td>2</td>\n",
       "      <td>женат / замужем</td>\n",
       "      <td>0</td>\n",
       "      <td>F</td>\n",
       "      <td>сотрудник</td>\n",
       "      <td>0</td>\n",
       "      <td>130458.228857</td>\n",
       "      <td>приобретение автомобиля</td>\n",
       "    </tr>\n",
       "    <tr>\n",
       "      <th>14</th>\n",
       "      <td>0</td>\n",
       "      <td>-1844.956182</td>\n",
       "      <td>56</td>\n",
       "      <td>высшее</td>\n",
       "      <td>0</td>\n",
       "      <td>гражданский брак</td>\n",
       "      <td>1</td>\n",
       "      <td>F</td>\n",
       "      <td>компаньон</td>\n",
       "      <td>1</td>\n",
       "      <td>165127.911772</td>\n",
       "      <td>покупка жилой недвижимости</td>\n",
       "    </tr>\n",
       "    <tr>\n",
       "      <th>15</th>\n",
       "      <td>1</td>\n",
       "      <td>-972.364419</td>\n",
       "      <td>26</td>\n",
       "      <td>среднее</td>\n",
       "      <td>1</td>\n",
       "      <td>женат / замужем</td>\n",
       "      <td>0</td>\n",
       "      <td>F</td>\n",
       "      <td>сотрудник</td>\n",
       "      <td>0</td>\n",
       "      <td>116820.904450</td>\n",
       "      <td>строительство собственной недвижимости</td>\n",
       "    </tr>\n",
       "    <tr>\n",
       "      <th>16</th>\n",
       "      <td>0</td>\n",
       "      <td>-1719.934226</td>\n",
       "      <td>35</td>\n",
       "      <td>среднее</td>\n",
       "      <td>1</td>\n",
       "      <td>женат / замужем</td>\n",
       "      <td>0</td>\n",
       "      <td>F</td>\n",
       "      <td>сотрудник</td>\n",
       "      <td>0</td>\n",
       "      <td>289202.704229</td>\n",
       "      <td>недвижимость</td>\n",
       "    </tr>\n",
       "    <tr>\n",
       "      <th>17</th>\n",
       "      <td>0</td>\n",
       "      <td>-2369.999720</td>\n",
       "      <td>33</td>\n",
       "      <td>высшее</td>\n",
       "      <td>0</td>\n",
       "      <td>гражданский брак</td>\n",
       "      <td>1</td>\n",
       "      <td>M</td>\n",
       "      <td>сотрудник</td>\n",
       "      <td>0</td>\n",
       "      <td>90410.586745</td>\n",
       "      <td>строительство недвижимости</td>\n",
       "    </tr>\n",
       "    <tr>\n",
       "      <th>18</th>\n",
       "      <td>0</td>\n",
       "      <td>400281.136913</td>\n",
       "      <td>53</td>\n",
       "      <td>среднее</td>\n",
       "      <td>1</td>\n",
       "      <td>вдовец / вдова</td>\n",
       "      <td>2</td>\n",
       "      <td>F</td>\n",
       "      <td>пенсионер</td>\n",
       "      <td>0</td>\n",
       "      <td>56823.777243</td>\n",
       "      <td>на покупку подержанного автомобиля</td>\n",
       "    </tr>\n",
       "    <tr>\n",
       "      <th>19</th>\n",
       "      <td>0</td>\n",
       "      <td>-10038.818549</td>\n",
       "      <td>48</td>\n",
       "      <td>СРЕДНЕЕ</td>\n",
       "      <td>1</td>\n",
       "      <td>в разводе</td>\n",
       "      <td>3</td>\n",
       "      <td>F</td>\n",
       "      <td>сотрудник</td>\n",
       "      <td>0</td>\n",
       "      <td>242831.107982</td>\n",
       "      <td>на покупку своего автомобиля</td>\n",
       "    </tr>\n",
       "  </tbody>\n",
       "</table>\n",
       "</div>"
      ],
      "text/plain": [
       "    children  days_employed  dob_years            education  education_id  \\\n",
       "0          1   -8437.673028         42               высшее             0   \n",
       "1          1   -4024.803754         36              среднее             1   \n",
       "2          0   -5623.422610         33              Среднее             1   \n",
       "3          3   -4124.747207         32              среднее             1   \n",
       "4          0  340266.072047         53              среднее             1   \n",
       "5          0    -926.185831         27               высшее             0   \n",
       "6          0   -2879.202052         43               высшее             0   \n",
       "7          0    -152.779569         50              СРЕДНЕЕ             1   \n",
       "8          2   -6929.865299         35               ВЫСШЕЕ             0   \n",
       "9          0   -2188.756445         41              среднее             1   \n",
       "10         2   -4171.483647         36               высшее             0   \n",
       "11         0    -792.701887         40              среднее             1   \n",
       "12         0            NaN         65              среднее             1   \n",
       "13         0   -1846.641941         54  неоконченное высшее             2   \n",
       "14         0   -1844.956182         56               высшее             0   \n",
       "15         1    -972.364419         26              среднее             1   \n",
       "16         0   -1719.934226         35              среднее             1   \n",
       "17         0   -2369.999720         33               высшее             0   \n",
       "18         0  400281.136913         53              среднее             1   \n",
       "19         0  -10038.818549         48              СРЕДНЕЕ             1   \n",
       "\n",
       "       family_status  family_status_id gender income_type  debt  \\\n",
       "0    женат / замужем                 0      F   сотрудник     0   \n",
       "1    женат / замужем                 0      F   сотрудник     0   \n",
       "2    женат / замужем                 0      M   сотрудник     0   \n",
       "3    женат / замужем                 0      M   сотрудник     0   \n",
       "4   гражданский брак                 1      F   пенсионер     0   \n",
       "5   гражданский брак                 1      M   компаньон     0   \n",
       "6    женат / замужем                 0      F   компаньон     0   \n",
       "7    женат / замужем                 0      M   сотрудник     0   \n",
       "8   гражданский брак                 1      F   сотрудник     0   \n",
       "9    женат / замужем                 0      M   сотрудник     0   \n",
       "10   женат / замужем                 0      M   компаньон     0   \n",
       "11   женат / замужем                 0      F   сотрудник     0   \n",
       "12  гражданский брак                 1      M   пенсионер     0   \n",
       "13   женат / замужем                 0      F   сотрудник     0   \n",
       "14  гражданский брак                 1      F   компаньон     1   \n",
       "15   женат / замужем                 0      F   сотрудник     0   \n",
       "16   женат / замужем                 0      F   сотрудник     0   \n",
       "17  гражданский брак                 1      M   сотрудник     0   \n",
       "18    вдовец / вдова                 2      F   пенсионер     0   \n",
       "19         в разводе                 3      F   сотрудник     0   \n",
       "\n",
       "     total_income                                 purpose  \n",
       "0   253875.639453                           покупка жилья  \n",
       "1   112080.014102                 приобретение автомобиля  \n",
       "2   145885.952297                           покупка жилья  \n",
       "3   267628.550329              дополнительное образование  \n",
       "4   158616.077870                         сыграть свадьбу  \n",
       "5   255763.565419                           покупка жилья  \n",
       "6   240525.971920                       операции с жильем  \n",
       "7   135823.934197                             образование  \n",
       "8    95856.832424                   на проведение свадьбы  \n",
       "9   144425.938277                 покупка жилья для семьи  \n",
       "10  113943.491460                    покупка недвижимости  \n",
       "11   77069.234271       покупка коммерческой недвижимости  \n",
       "12            NaN                         сыграть свадьбу  \n",
       "13  130458.228857                 приобретение автомобиля  \n",
       "14  165127.911772              покупка жилой недвижимости  \n",
       "15  116820.904450  строительство собственной недвижимости  \n",
       "16  289202.704229                            недвижимость  \n",
       "17   90410.586745              строительство недвижимости  \n",
       "18   56823.777243      на покупку подержанного автомобиля  \n",
       "19  242831.107982            на покупку своего автомобиля  "
      ]
     },
     "execution_count": 2,
     "metadata": {},
     "output_type": "execute_result"
    }
   ],
   "source": [
    "data.head(20)"
   ]
  },
  {
   "cell_type": "markdown",
   "id": "27d2e7ac",
   "metadata": {
    "deletable": false,
    "editable": false,
    "id": "1c12e233"
   },
   "source": [
    "**Задание 3. Выведите основную информацию о датафрейме с помощью метода `info()`.**"
   ]
  },
  {
   "cell_type": "code",
   "execution_count": 3,
   "id": "f9ed43a7",
   "metadata": {
    "deletable": false,
    "id": "2b757bca",
    "outputId": "15376089-8dad-46c9-b520-c05248d43158"
   },
   "outputs": [
    {
     "name": "stdout",
     "output_type": "stream",
     "text": [
      "<class 'pandas.core.frame.DataFrame'>\n",
      "RangeIndex: 21525 entries, 0 to 21524\n",
      "Data columns (total 12 columns):\n",
      " #   Column            Non-Null Count  Dtype  \n",
      "---  ------            --------------  -----  \n",
      " 0   children          21525 non-null  int64  \n",
      " 1   days_employed     19351 non-null  float64\n",
      " 2   dob_years         21525 non-null  int64  \n",
      " 3   education         21525 non-null  object \n",
      " 4   education_id      21525 non-null  int64  \n",
      " 5   family_status     21525 non-null  object \n",
      " 6   family_status_id  21525 non-null  int64  \n",
      " 7   gender            21525 non-null  object \n",
      " 8   income_type       21525 non-null  object \n",
      " 9   debt              21525 non-null  int64  \n",
      " 10  total_income      19351 non-null  float64\n",
      " 11  purpose           21525 non-null  object \n",
      "dtypes: float64(2), int64(5), object(5)\n",
      "memory usage: 2.0+ MB\n"
     ]
    }
   ],
   "source": [
    "data.info()"
   ]
  },
  {
   "cell_type": "markdown",
   "id": "a1c6cf6e",
   "metadata": {
    "deletable": false,
    "editable": false,
    "id": "333ec665"
   },
   "source": [
    "## Предобработка данных"
   ]
  },
  {
   "cell_type": "markdown",
   "id": "effa9265",
   "metadata": {
    "deletable": false,
    "editable": false,
    "id": "02d92d53"
   },
   "source": [
    "### Удаление пропусков"
   ]
  },
  {
   "cell_type": "markdown",
   "id": "8cb3ce27",
   "metadata": {
    "deletable": false,
    "editable": false,
    "id": "cd84967c"
   },
   "source": [
    "**Задание 4. Выведите количество пропущенных значений для каждого столбца. Используйте комбинацию двух методов.**"
   ]
  },
  {
   "cell_type": "code",
   "execution_count": 4,
   "id": "dc69381b",
   "metadata": {
    "deletable": false,
    "id": "7f9b2309",
    "outputId": "81f4d817-781c-465c-ed15-91ce4446810d"
   },
   "outputs": [
    {
     "data": {
      "text/plain": [
       "children               0\n",
       "days_employed       2174\n",
       "dob_years              0\n",
       "education              0\n",
       "education_id           0\n",
       "family_status          0\n",
       "family_status_id       0\n",
       "gender                 0\n",
       "income_type            0\n",
       "debt                   0\n",
       "total_income        2174\n",
       "purpose                0\n",
       "dtype: int64"
      ]
     },
     "execution_count": 4,
     "metadata": {},
     "output_type": "execute_result"
    }
   ],
   "source": [
    "data.isna().sum()"
   ]
  },
  {
   "cell_type": "markdown",
   "id": "48160f00",
   "metadata": {
    "deletable": false,
    "editable": false,
    "id": "db86e27b"
   },
   "source": [
    "**Задание 5. В двух столбцах есть пропущенные значения. Один из них — `days_employed`. Пропуски в этом столбце вы обработаете на следующем этапе. Другой столбец с пропущенными значениями — `total_income` — хранит данные о доходах. На сумму дохода сильнее всего влияет тип занятости, поэтому заполнить пропуски в этом столбце нужно медианным значением по каждому типу из столбца `income_type`. Например, у человека с типом занятости `сотрудник` пропуск в столбце `total_income` должен быть заполнен медианным доходом среди всех записей с тем же типом.**"
   ]
  },
  {
   "cell_type": "code",
   "execution_count": 5,
   "id": "190384c6",
   "metadata": {
    "deletable": false,
    "id": "42006a93"
   },
   "outputs": [],
   "source": [
    "for t in data['income_type'].unique():\n",
    "    data.loc[(data['income_type'] == t) & (data['total_income'].isna()), 'total_income'] = \\\n",
    "    data.loc[(data['income_type'] == t), 'total_income'].median()"
   ]
  },
  {
   "cell_type": "markdown",
   "id": "d87c5e52",
   "metadata": {
    "deletable": false,
    "editable": false,
    "id": "89da5ece"
   },
   "source": [
    "### Обработка аномальных значений"
   ]
  },
  {
   "cell_type": "markdown",
   "id": "77f64037",
   "metadata": {
    "deletable": false,
    "editable": false,
    "id": "57964554"
   },
   "source": [
    "**Задание 6. В данных могут встречаться артефакты (аномалии) — значения, которые не отражают действительность и появились по какой-то ошибке. таким артефактом будет отрицательное количество дней трудового стажа в столбце `days_employed`. Для реальных данных это нормально. Обработайте значения в этом столбце: замените все отрицательные значения положительными с помощью метода `abs()`.**"
   ]
  },
  {
   "cell_type": "code",
   "execution_count": 6,
   "id": "172c4ffb",
   "metadata": {
    "deletable": false,
    "id": "f6f055bf"
   },
   "outputs": [],
   "source": [
    "data['days_employed'] = data['days_employed'].abs()"
   ]
  },
  {
   "cell_type": "markdown",
   "id": "2198dc4b",
   "metadata": {
    "deletable": false,
    "editable": false,
    "id": "6107dd2f"
   },
   "source": [
    "**Задание 7. Для каждого типа занятости выведите медианное значение трудового стажа `days_employed` в днях.**"
   ]
  },
  {
   "cell_type": "code",
   "execution_count": 7,
   "id": "663278a9",
   "metadata": {
    "deletable": false,
    "id": "85a5faf6",
    "outputId": "801ef80e-522b-4668-f34e-565af7432bcf"
   },
   "outputs": [
    {
     "data": {
      "text/plain": [
       "income_type\n",
       "безработный        366413.652744\n",
       "в декрете            3296.759962\n",
       "госслужащий          2689.368353\n",
       "компаньон            1547.382223\n",
       "пенсионер          365213.306266\n",
       "предприниматель       520.848083\n",
       "сотрудник            1574.202821\n",
       "студент               578.751554\n",
       "Name: days_employed, dtype: float64"
      ]
     },
     "execution_count": 7,
     "metadata": {},
     "output_type": "execute_result"
    }
   ],
   "source": [
    "data.groupby('income_type')['days_employed'].agg('median')"
   ]
  },
  {
   "cell_type": "markdown",
   "id": "9ae62c45",
   "metadata": {
    "deletable": false,
    "editable": false,
    "id": "38d1a030"
   },
   "source": [
    "У двух типов (безработные и пенсионеры) получатся аномально большие значения. Исправить такие значения сложно, поэтому оставьте их как есть. Тем более этот столбец не понадобится вам для исследования."
   ]
  },
  {
   "cell_type": "markdown",
   "id": "a9bedcbe",
   "metadata": {
    "deletable": false,
    "editable": false,
    "id": "d8a9f147"
   },
   "source": [
    "**Задание 8. Выведите перечень уникальных значений столбца `children`.**"
   ]
  },
  {
   "cell_type": "code",
   "execution_count": 8,
   "id": "3590df76",
   "metadata": {
    "deletable": false,
    "id": "ef5056eb",
    "outputId": "6975b15c-7f95-4697-d16d-a0c79b657b03"
   },
   "outputs": [
    {
     "data": {
      "text/plain": [
       "array([ 1,  0,  3,  2, -1,  4, 20,  5])"
      ]
     },
     "execution_count": 8,
     "metadata": {},
     "output_type": "execute_result"
    }
   ],
   "source": [
    "data['children'].unique()"
   ]
  },
  {
   "cell_type": "markdown",
   "id": "fe479b48",
   "metadata": {
    "deletable": false,
    "editable": false,
    "id": "40b9ebf2"
   },
   "source": [
    "**Задание 9. В столбце `children` есть два аномальных значения. Удалите строки, в которых встречаются такие аномальные значения из датафрейма `data`.**"
   ]
  },
  {
   "cell_type": "code",
   "execution_count": 9,
   "id": "c65002e2",
   "metadata": {
    "deletable": false,
    "id": "3ff9801d"
   },
   "outputs": [],
   "source": [
    "data = data[(data['children'] != -1) & (data['children'] != 20)]"
   ]
  },
  {
   "cell_type": "markdown",
   "id": "9cf73d3c",
   "metadata": {
    "deletable": false,
    "editable": false,
    "id": "bbc4d0ce"
   },
   "source": [
    "**Задание 10. Ещё раз выведите перечень уникальных значений столбца `children`, чтобы убедиться, что артефакты удалены.**"
   ]
  },
  {
   "cell_type": "code",
   "execution_count": 10,
   "id": "88b32c74",
   "metadata": {
    "deletable": false,
    "id": "ad4fa8b7",
    "outputId": "b2097101-d49d-44d9-901b-32a65c9463d1"
   },
   "outputs": [
    {
     "data": {
      "text/plain": [
       "array([1, 0, 3, 2, 4, 5])"
      ]
     },
     "execution_count": 10,
     "metadata": {},
     "output_type": "execute_result"
    }
   ],
   "source": [
    "data['children'].unique()"
   ]
  },
  {
   "cell_type": "markdown",
   "id": "02c613f7",
   "metadata": {
    "deletable": false,
    "editable": false,
    "id": "75440b63"
   },
   "source": [
    "### Удаление пропусков (продолжение)"
   ]
  },
  {
   "cell_type": "markdown",
   "id": "4fab41ef",
   "metadata": {
    "deletable": false,
    "editable": false,
    "id": "f4ea573f"
   },
   "source": [
    "**Задание 11. Заполните пропуски в столбце `days_employed` медианными значениями по каждого типа занятости `income_type`.**"
   ]
  },
  {
   "cell_type": "code",
   "execution_count": 11,
   "id": "c45b9268",
   "metadata": {
    "deletable": false,
    "id": "af6b1a7e"
   },
   "outputs": [],
   "source": [
    "for t in data['income_type'].unique():\n",
    "    data.loc[(data['income_type'] == t) & (data['days_employed'].isna()), 'days_employed'] = \\\n",
    "    data.loc[(data['income_type'] == t), 'days_employed'].median()"
   ]
  },
  {
   "cell_type": "markdown",
   "id": "39834a5a",
   "metadata": {
    "deletable": false,
    "editable": false,
    "id": "2753f40d"
   },
   "source": [
    "**Задание 12. Убедитесь, что все пропуски заполнены. Проверьте себя и ещё раз выведите количество пропущенных значений для каждого столбца с помощью двух методов.**"
   ]
  },
  {
   "cell_type": "code",
   "execution_count": 12,
   "id": "b053caaa",
   "metadata": {
    "deletable": false,
    "id": "55f78bc2",
    "outputId": "8da1e4e1-358e-4e87-98c9-f261bce0a7b2"
   },
   "outputs": [
    {
     "data": {
      "text/plain": [
       "children            0\n",
       "days_employed       0\n",
       "dob_years           0\n",
       "education           0\n",
       "education_id        0\n",
       "family_status       0\n",
       "family_status_id    0\n",
       "gender              0\n",
       "income_type         0\n",
       "debt                0\n",
       "total_income        0\n",
       "purpose             0\n",
       "dtype: int64"
      ]
     },
     "execution_count": 12,
     "metadata": {},
     "output_type": "execute_result"
    }
   ],
   "source": [
    "data.isna().sum()"
   ]
  },
  {
   "cell_type": "markdown",
   "id": "7a4ffb20",
   "metadata": {
    "deletable": false,
    "editable": false,
    "id": "ddc81e43"
   },
   "source": [
    "### Изменение типов данных"
   ]
  },
  {
   "cell_type": "markdown",
   "id": "cb8522c0",
   "metadata": {
    "deletable": false,
    "editable": false,
    "id": "42d19d24"
   },
   "source": [
    "**Задание 13. Замените вещественный тип данных в столбце `total_income` на целочисленный с помощью метода `astype()`.**"
   ]
  },
  {
   "cell_type": "code",
   "execution_count": 13,
   "id": "eafb9d3c",
   "metadata": {
    "deletable": false,
    "id": "920b65ad"
   },
   "outputs": [],
   "source": [
    "data['total_income'] = data['total_income'].astype(int)"
   ]
  },
  {
   "cell_type": "markdown",
   "id": "b456dbe0",
   "metadata": {
    "deletable": false,
    "editable": false,
    "id": "80c420ba"
   },
   "source": [
    "### Обработка дубликатов"
   ]
  },
  {
   "cell_type": "markdown",
   "id": "b27e6f93",
   "metadata": {
    "deletable": false,
    "editable": false
   },
   "source": [
    "**Задание 14. Обработайте неявные дубликаты в столбце `education`. В этом столбце есть одни и те же значения, но записанные по-разному: с использованием заглавных и строчных букв. Приведите их к нижнему регистру. Проверьте остальные столбцы.**"
   ]
  },
  {
   "cell_type": "code",
   "execution_count": 14,
   "id": "b6de46b7",
   "metadata": {
    "deletable": false
   },
   "outputs": [],
   "source": [
    "data['education'] = data['education'].str.lower()"
   ]
  },
  {
   "cell_type": "markdown",
   "id": "39c4279e",
   "metadata": {
    "deletable": false,
    "editable": false,
    "id": "dc587695"
   },
   "source": [
    "**Задание 15. Выведите на экран количество строк-дубликатов в данных. Если такие строки присутствуют, удалите их.**"
   ]
  },
  {
   "cell_type": "code",
   "execution_count": 15,
   "id": "b85cd5e5",
   "metadata": {
    "deletable": false,
    "id": "3ee445e4",
    "outputId": "9684deba-1934-42d1-99e1-cda61740f822"
   },
   "outputs": [
    {
     "data": {
      "text/plain": [
       "71"
      ]
     },
     "execution_count": 15,
     "metadata": {},
     "output_type": "execute_result"
    }
   ],
   "source": [
    "data.duplicated().sum()"
   ]
  },
  {
   "cell_type": "code",
   "execution_count": 16,
   "id": "d46157a9",
   "metadata": {
    "deletable": false,
    "id": "8575fe05"
   },
   "outputs": [],
   "source": [
    "data = data.drop_duplicates()"
   ]
  },
  {
   "cell_type": "markdown",
   "id": "ca062daf",
   "metadata": {
    "deletable": false,
    "editable": false,
    "id": "9904cf55"
   },
   "source": [
    "### Категоризация данных"
   ]
  },
  {
   "cell_type": "markdown",
   "id": "fe001c2e",
   "metadata": {
    "deletable": false,
    "editable": false,
    "id": "72fcc8a2"
   },
   "source": [
    "**Задание 16. На основании диапазонов, указанных ниже, создайте в датафрейме `data` столбец `total_income_category` с категориями:**\n",
    "\n",
    "- 0–30000 — `'E'`;\n",
    "- 30001–50000 — `'D'`;\n",
    "- 50001–200000 — `'C'`;\n",
    "- 200001–1000000 — `'B'`;\n",
    "- 1000001 и выше — `'A'`.\n",
    "\n",
    "\n",
    "**Например, кредитополучателю с доходом 25000 нужно назначить категорию `'E'`, а клиенту, получающему 235000, — `'B'`. Используйте собственную функцию с именем `categorize_income()` и метод `apply()`.**"
   ]
  },
  {
   "cell_type": "code",
   "execution_count": 17,
   "id": "2d8e7198",
   "metadata": {
    "deletable": false,
    "id": "e1771346"
   },
   "outputs": [],
   "source": [
    "def categorize_income(income):\n",
    "    try:\n",
    "        if 0 <= income <= 30000:\n",
    "            return 'E'\n",
    "        elif 30001 <= income <= 50000:\n",
    "            return 'D'\n",
    "        elif 50001 <= income <= 200000:\n",
    "            return 'C'\n",
    "        elif 200001 <= income <= 1000000:\n",
    "            return 'B'\n",
    "        elif income >= 1000001:\n",
    "            return 'A'\n",
    "    except:\n",
    "        pass"
   ]
  },
  {
   "cell_type": "code",
   "execution_count": 18,
   "id": "82dc1a55",
   "metadata": {
    "deletable": false,
    "id": "d5f3586d"
   },
   "outputs": [],
   "source": [
    "data['total_income_category'] = data['total_income'].apply(categorize_income)"
   ]
  },
  {
   "cell_type": "markdown",
   "id": "9e83e843",
   "metadata": {
    "deletable": false,
    "editable": false,
    "id": "dde49b5c"
   },
   "source": [
    "**Задание 17. Выведите на экран перечень уникальных целей взятия кредита из столбца `purpose`.**"
   ]
  },
  {
   "cell_type": "code",
   "execution_count": 19,
   "id": "c3a2ab68",
   "metadata": {
    "deletable": false,
    "id": "f67ce9b3",
    "outputId": "673c12d9-7d7e-4ae0-9812-c622c89dd244"
   },
   "outputs": [
    {
     "data": {
      "text/plain": [
       "array(['покупка жилья', 'приобретение автомобиля',\n",
       "       'дополнительное образование', 'сыграть свадьбу',\n",
       "       'операции с жильем', 'образование', 'на проведение свадьбы',\n",
       "       'покупка жилья для семьи', 'покупка недвижимости',\n",
       "       'покупка коммерческой недвижимости', 'покупка жилой недвижимости',\n",
       "       'строительство собственной недвижимости', 'недвижимость',\n",
       "       'строительство недвижимости', 'на покупку подержанного автомобиля',\n",
       "       'на покупку своего автомобиля',\n",
       "       'операции с коммерческой недвижимостью',\n",
       "       'строительство жилой недвижимости', 'жилье',\n",
       "       'операции со своей недвижимостью', 'автомобили',\n",
       "       'заняться образованием', 'сделка с подержанным автомобилем',\n",
       "       'получение образования', 'автомобиль', 'свадьба',\n",
       "       'получение дополнительного образования', 'покупка своего жилья',\n",
       "       'операции с недвижимостью', 'получение высшего образования',\n",
       "       'свой автомобиль', 'сделка с автомобилем',\n",
       "       'профильное образование', 'высшее образование',\n",
       "       'покупка жилья для сдачи', 'на покупку автомобиля', 'ремонт жилью',\n",
       "       'заняться высшим образованием'], dtype=object)"
      ]
     },
     "execution_count": 19,
     "metadata": {},
     "output_type": "execute_result"
    }
   ],
   "source": [
    "data['purpose'].unique()"
   ]
  },
  {
   "cell_type": "markdown",
   "id": "b9a6195b",
   "metadata": {
    "deletable": false,
    "editable": false,
    "id": "85d0aef0"
   },
   "source": [
    "**Задание 18. Создайте функцию, которая на основании данных из столбца `purpose` сформирует новый столбец `purpose_category`, в который войдут следующие категории:**\n",
    "\n",
    "- `'операции с автомобилем'`,\n",
    "- `'операции с недвижимостью'`,\n",
    "- `'проведение свадьбы'`,\n",
    "- `'получение образования'`.\n",
    "\n",
    "**Например, если в столбце `purpose` находится подстрока `'на покупку автомобиля'`, то в столбце `purpose_category` должна появиться строка `'операции с автомобилем'`.**\n",
    "\n",
    "**Используйте собственную функцию с именем `categorize_purpose()` и метод `apply()`. Изучите данные в столбце `purpose` и определите, какие подстроки помогут вам правильно определить категорию.**"
   ]
  },
  {
   "cell_type": "code",
   "execution_count": 20,
   "id": "c840dbf2",
   "metadata": {
    "deletable": false,
    "id": "e149fab4"
   },
   "outputs": [],
   "source": [
    "def categorize_purpose(row):\n",
    "    try:\n",
    "        if 'авто' in row:\n",
    "            return \"операции с автомобилем\"\n",
    "        elif \"жил\" in row or 'недвиж' in row:\n",
    "            return \"операции с недвижимостью\"\n",
    "        elif \"свад\" in row:\n",
    "            return \"проведение свадьбы\"\n",
    "        elif \"образов\" in row:\n",
    "            return \"получение образования\"\n",
    "    except:\n",
    "        return 'нет категории'"
   ]
  },
  {
   "cell_type": "code",
   "execution_count": 21,
   "id": "877bb6ba",
   "metadata": {
    "deletable": false,
    "id": "bf36e69b"
   },
   "outputs": [
    {
     "data": {
      "text/plain": [
       "0        операции с недвижимостью\n",
       "1          операции с автомобилем\n",
       "2        операции с недвижимостью\n",
       "3           получение образования\n",
       "4              проведение свадьбы\n",
       "                   ...           \n",
       "21520    операции с недвижимостью\n",
       "21521      операции с автомобилем\n",
       "21522    операции с недвижимостью\n",
       "21523      операции с автомобилем\n",
       "21524      операции с автомобилем\n",
       "Name: purpose_category, Length: 21331, dtype: object"
      ]
     },
     "metadata": {},
     "output_type": "display_data"
    }
   ],
   "source": [
    "data['purpose_category'] = data['purpose'].apply(categorize_purpose)\n",
    "display(data['purpose_category'])"
   ]
  },
  {
   "cell_type": "markdown",
   "id": "3adf5b30",
   "metadata": {
    "deletable": false,
    "editable": false,
    "id": "09b242bf"
   },
   "source": [
    "### Шаг 3. Исследуйте данные и ответьте на вопросы"
   ]
  },
  {
   "cell_type": "markdown",
   "id": "85d0790d",
   "metadata": {
    "deletable": false,
    "editable": false,
    "id": "c5d66278"
   },
   "source": [
    "#### 3.1 Есть ли зависимость между количеством детей и возвратом кредита в срок?"
   ]
  },
  {
   "cell_type": "code",
   "execution_count": 22,
   "id": "8fcec9fc",
   "metadata": {
    "deletable": false,
    "id": "2cacfc4a"
   },
   "outputs": [
    {
     "data": {
      "text/html": [
       "<div>\n",
       "<style scoped>\n",
       "    .dataframe tbody tr th:only-of-type {\n",
       "        vertical-align: middle;\n",
       "    }\n",
       "\n",
       "    .dataframe tbody tr th {\n",
       "        vertical-align: top;\n",
       "    }\n",
       "\n",
       "    .dataframe thead tr th {\n",
       "        text-align: left;\n",
       "    }\n",
       "</style>\n",
       "<table border=\"1\" class=\"dataframe\">\n",
       "  <thead>\n",
       "    <tr>\n",
       "      <th></th>\n",
       "      <th>children</th>\n",
       "      <th colspan=\"2\" halign=\"left\">debt</th>\n",
       "      <th>conversion_children</th>\n",
       "    </tr>\n",
       "    <tr>\n",
       "      <th></th>\n",
       "      <th></th>\n",
       "      <th>count</th>\n",
       "      <th>sum</th>\n",
       "      <th></th>\n",
       "    </tr>\n",
       "  </thead>\n",
       "  <tbody>\n",
       "    <tr>\n",
       "      <th>4</th>\n",
       "      <td>4</td>\n",
       "      <td>41</td>\n",
       "      <td>4</td>\n",
       "      <td>0.097561</td>\n",
       "    </tr>\n",
       "    <tr>\n",
       "      <th>2</th>\n",
       "      <td>2</td>\n",
       "      <td>2052</td>\n",
       "      <td>194</td>\n",
       "      <td>0.094542</td>\n",
       "    </tr>\n",
       "    <tr>\n",
       "      <th>1</th>\n",
       "      <td>1</td>\n",
       "      <td>4808</td>\n",
       "      <td>444</td>\n",
       "      <td>0.092346</td>\n",
       "    </tr>\n",
       "    <tr>\n",
       "      <th>3</th>\n",
       "      <td>3</td>\n",
       "      <td>330</td>\n",
       "      <td>27</td>\n",
       "      <td>0.081818</td>\n",
       "    </tr>\n",
       "    <tr>\n",
       "      <th>0</th>\n",
       "      <td>0</td>\n",
       "      <td>14091</td>\n",
       "      <td>1063</td>\n",
       "      <td>0.075438</td>\n",
       "    </tr>\n",
       "    <tr>\n",
       "      <th>5</th>\n",
       "      <td>5</td>\n",
       "      <td>9</td>\n",
       "      <td>0</td>\n",
       "      <td>0.000000</td>\n",
       "    </tr>\n",
       "  </tbody>\n",
       "</table>\n",
       "</div>"
      ],
      "text/plain": [
       "  children   debt       conversion_children\n",
       "            count   sum                    \n",
       "4        4     41     4            0.097561\n",
       "2        2   2052   194            0.094542\n",
       "1        1   4808   444            0.092346\n",
       "3        3    330    27            0.081818\n",
       "0        0  14091  1063            0.075438\n",
       "5        5      9     0            0.000000"
      ]
     },
     "metadata": {},
     "output_type": "display_data"
    }
   ],
   "source": [
    "children_grouped = data.groupby('children', as_index = False).agg({'debt':['count', 'sum']})\n",
    "children_grouped['conversion_children'] = children_grouped['debt']['sum'] / children_grouped ['debt']['count']\n",
    "children_grouped = children_grouped.sort_values( by ='conversion_children',ascending= False)\n",
    "display(children_grouped)\n",
    "# Ваш код будет здесь. Вы можете создавать новые ячейки."
   ]
  },
  {
   "cell_type": "markdown",
   "id": "9a106845",
   "metadata": {},
   "source": [
    "<div class=\"alert alert-warning\">\n",
    "<font size=\"5\"><b>Комментарий ревьюера</b></font>\n",
    "\n",
    "Совет: Таблицы на печать выводи с помощью метода display. print переводит данные в строку, а нам этого не надо. \n",
    "\n",
    "</div>"
   ]
  },
  {
   "cell_type": "markdown",
   "id": "8f371de6",
   "metadata": {},
   "source": [
    "<div class=\"alert alert-success\">\n",
    "<font size=\"5\"><b>Комментарий ревьюера 2</b></font>\n",
    "\n",
    "Успех: 👍 \n",
    "\n",
    "</div>"
   ]
  },
  {
   "cell_type": "markdown",
   "id": "f55298b7",
   "metadata": {
    "deletable": false,
    "id": "3a6b99ec"
   },
   "source": [
    "**Вывод:** Из этих данных видно, что возврат кредита связан с количеством детей. Больше всего просрочек у людей с 1, 2,3,4 детьми, нет просрочек у тех кто имееет 5 детей, те у кого вообще нет детей - просрочек меньше."
   ]
  },
  {
   "cell_type": "markdown",
   "id": "25e0b399",
   "metadata": {},
   "source": [
    "<div class=\"alert alert-success\">\n",
    "<font size=\"5\"><b>Комментарий ревьюера</b></font>\n",
    "\n",
    "Успех: Вывод не противоречит полученному результату. \n",
    "\n",
    "</div>"
   ]
  },
  {
   "cell_type": "markdown",
   "id": "abea49d5",
   "metadata": {
    "deletable": false,
    "editable": false,
    "id": "97be82ca"
   },
   "source": [
    "#### 3.2 Есть ли зависимость между семейным положением и возвратом кредита в срок?"
   ]
  },
  {
   "cell_type": "code",
   "execution_count": 23,
   "id": "54d3833a",
   "metadata": {
    "deletable": false,
    "id": "dc3f7ee8"
   },
   "outputs": [
    {
     "name": "stdout",
     "output_type": "stream",
     "text": [
      "family_status\n",
      "Не женат / не замужем    0.097639\n",
      "в разводе                0.070648\n",
      "вдовец / вдова           0.066246\n",
      "гражданский брак         0.093130\n",
      "женат / замужем          0.075606\n",
      "dtype: float64\n"
     ]
    }
   ],
   "source": [
    "family_grouped = data.groupby('family_status').agg({'debt':['count','sum']})\n",
    "family_gr_quality = family_grouped['debt']['sum'] / family_grouped['debt']['count']\n",
    "print(family_gr_quality)# Ваш код будет здесь. Вы можете создавать новые ячейки."
   ]
  },
  {
   "cell_type": "markdown",
   "id": "e74a6b2e",
   "metadata": {},
   "source": [
    "<div class=\"alert alert-success\">\n",
    "<font size=\"5\"><b>Комментарий ревьюера</b></font>\n",
    "  \n",
    "Совет: В agg вполне можно добавить и mean для нахождения доли должников в каждой из групп. \n",
    "\n",
    "</div>"
   ]
  },
  {
   "cell_type": "markdown",
   "id": "dc8ce16f",
   "metadata": {
    "deletable": false,
    "id": "1cef7837"
   },
   "source": [
    "**Вывод:** Люди которые на данный момент находятся одни имеют меньше просрочек по кредиту, это можно заметить исходя из данных в графах - в разводе, вдовец/вдова. \n",
    "Чуть больше доля просрочек у тех кто женат/ замужем, но тоже неплохой результат \n",
    "Большие доли просрочек приходятся на людей в гражданском браке и кто не женат / не замужем "
   ]
  },
  {
   "cell_type": "markdown",
   "id": "e1c987fc",
   "metadata": {},
   "source": [
    "<div class=\"alert alert-success\">\n",
    "<font size=\"5\"><b>Комментарий ревьюера</b></font>\n",
    "\n",
    "Успех: Подумай над причинами получения такого результата. \n",
    "\n",
    "</div>"
   ]
  },
  {
   "cell_type": "markdown",
   "id": "ba43ea53",
   "metadata": {
    "deletable": false,
    "editable": false,
    "id": "1e8b2fca"
   },
   "source": [
    "#### 3.3 Есть ли зависимость между уровнем дохода и возвратом кредита в срок?"
   ]
  },
  {
   "cell_type": "code",
   "execution_count": 24,
   "id": "53144afe",
   "metadata": {
    "deletable": false,
    "id": "cd7e3720",
    "scrolled": true
   },
   "outputs": [
    {
     "data": {
      "text/plain": [
       "total_income_category\n",
       "A    0.080000\n",
       "B    0.070602\n",
       "C    0.084982\n",
       "D    0.060172\n",
       "E    0.090909\n",
       "dtype: float64"
      ]
     },
     "metadata": {},
     "output_type": "display_data"
    }
   ],
   "source": [
    "total_grouped=data.groupby('total_income_category').agg({'debt':['sum','count']})\n",
    "total_quality=total_grouped['debt']['sum']/total_grouped['debt']['count']\n",
    "total_grouped['debt']\n",
    "display(total_quality)\n"
   ]
  },
  {
   "cell_type": "markdown",
   "id": "168e23ef",
   "metadata": {
    "deletable": false,
    "id": "e8593def"
   },
   "source": [
    "**Вывод:** Люди с доходом от 30 до 50 т. имеют наименьше просрочек, доля их просрочек составляет 0.6, чуть выше показатель у людей с доходом от 200 до 1000 т.\n",
    "Хуже у людей с просрочкой 0.8 их доход равен от 1000 т. и категория людей с 0.84 чей дохой равен от 50 до 200 т.\n",
    "И самая плохая ситуация у людей с доходом от 0 до 30 т. их просрочка составляет 0.9"
   ]
  },
  {
   "cell_type": "markdown",
   "id": "9030fcdf",
   "metadata": {},
   "source": [
    "<div class=\"alert alert-danger\">\n",
    "<font size=\"5\"><b>Комментарий ревьюера</b></font>\n",
    "\n",
    "Ошибка: Анализировать нужно категоризованный параметр total_income_category. Подсчитай долю должников в каждой из групп. \n",
    "\n",
    "</div>"
   ]
  },
  {
   "cell_type": "markdown",
   "id": "ffeac050",
   "metadata": {},
   "source": [
    "<div class=\"alert alert-success\">\n",
    "<font size=\"5\"><b>Комментарий ревьюера 2</b></font>\n",
    "\n",
    "Успех: Теперь все верно.  \n",
    "\n",
    "</div>"
   ]
  },
  {
   "cell_type": "markdown",
   "id": "ee15546c",
   "metadata": {
    "deletable": false,
    "editable": false,
    "id": "99ecbd1f"
   },
   "source": [
    "#### 3.4 Как разные цели кредита влияют на его возврат в срок?"
   ]
  },
  {
   "cell_type": "code",
   "execution_count": 31,
   "id": "598156eb",
   "metadata": {},
   "outputs": [
    {
     "data": {
      "text/plain": [
       "debt    400\n",
       "Name: операции с автомобилем, dtype: int64"
      ]
     },
     "execution_count": 31,
     "metadata": {},
     "output_type": "execute_result"
    }
   ],
   "source": [
    "# Код ревьюера\n",
    "data_pivot.loc['операции с автомобилем', 'sum']"
   ]
  },
  {
   "cell_type": "code",
   "execution_count": 25,
   "id": "4555444a",
   "metadata": {
    "deletable": false,
    "id": "2b687290",
    "scrolled": true
   },
   "outputs": [
    {
     "ename": "KeyError",
     "evalue": "'операции с автомобилем'",
     "output_type": "error",
     "traceback": [
      "\u001b[0;31m---------------------------------------------------------------------------\u001b[0m",
      "\u001b[0;31mKeyError\u001b[0m                                  Traceback (most recent call last)",
      "\u001b[0;32m/opt/conda/lib/python3.9/site-packages/pandas/core/indexes/base.py\u001b[0m in \u001b[0;36mget_loc\u001b[0;34m(self, key, method, tolerance)\u001b[0m\n\u001b[1;32m   3079\u001b[0m             \u001b[0;32mtry\u001b[0m\u001b[0;34m:\u001b[0m\u001b[0;34m\u001b[0m\u001b[0;34m\u001b[0m\u001b[0m\n\u001b[0;32m-> 3080\u001b[0;31m                 \u001b[0;32mreturn\u001b[0m \u001b[0mself\u001b[0m\u001b[0;34m.\u001b[0m\u001b[0m_engine\u001b[0m\u001b[0;34m.\u001b[0m\u001b[0mget_loc\u001b[0m\u001b[0;34m(\u001b[0m\u001b[0mcasted_key\u001b[0m\u001b[0;34m)\u001b[0m\u001b[0;34m\u001b[0m\u001b[0;34m\u001b[0m\u001b[0m\n\u001b[0m\u001b[1;32m   3081\u001b[0m             \u001b[0;32mexcept\u001b[0m \u001b[0mKeyError\u001b[0m \u001b[0;32mas\u001b[0m \u001b[0merr\u001b[0m\u001b[0;34m:\u001b[0m\u001b[0;34m\u001b[0m\u001b[0;34m\u001b[0m\u001b[0m\n",
      "\u001b[0;32mpandas/_libs/index.pyx\u001b[0m in \u001b[0;36mpandas._libs.index.IndexEngine.get_loc\u001b[0;34m()\u001b[0m\n",
      "\u001b[0;32mpandas/_libs/index.pyx\u001b[0m in \u001b[0;36mpandas._libs.index.IndexEngine.get_loc\u001b[0;34m()\u001b[0m\n",
      "\u001b[0;32mpandas/_libs/hashtable_class_helper.pxi\u001b[0m in \u001b[0;36mpandas._libs.hashtable.PyObjectHashTable.get_item\u001b[0;34m()\u001b[0m\n",
      "\u001b[0;32mpandas/_libs/hashtable_class_helper.pxi\u001b[0m in \u001b[0;36mpandas._libs.hashtable.PyObjectHashTable.get_item\u001b[0;34m()\u001b[0m\n",
      "\u001b[0;31mKeyError\u001b[0m: 'операции с автомобилем'",
      "\nThe above exception was the direct cause of the following exception:\n",
      "\u001b[0;31mKeyError\u001b[0m                                  Traceback (most recent call last)",
      "\u001b[0;32m/tmp/ipykernel_98/105667177.py\u001b[0m in \u001b[0;36m<module>\u001b[0;34m\u001b[0m\n\u001b[1;32m      2\u001b[0m \u001b[0mdata_pivot\u001b[0m \u001b[0;34m=\u001b[0m \u001b[0mdata\u001b[0m\u001b[0;34m.\u001b[0m\u001b[0mpivot_table\u001b[0m\u001b[0;34m(\u001b[0m\u001b[0mindex\u001b[0m\u001b[0;34m=\u001b[0m\u001b[0;34m[\u001b[0m\u001b[0;34m'purpose_category'\u001b[0m\u001b[0;34m]\u001b[0m\u001b[0;34m,\u001b[0m \u001b[0mvalues\u001b[0m\u001b[0;34m=\u001b[0m\u001b[0;34m'debt'\u001b[0m\u001b[0;34m,\u001b[0m\u001b[0maggfunc\u001b[0m\u001b[0;34m=\u001b[0m\u001b[0;34m[\u001b[0m\u001b[0;34m'sum'\u001b[0m\u001b[0;34m,\u001b[0m \u001b[0;34m'count'\u001b[0m\u001b[0;34m]\u001b[0m\u001b[0;34m)\u001b[0m\u001b[0;34m\u001b[0m\u001b[0;34m\u001b[0m\u001b[0m\n\u001b[1;32m      3\u001b[0m \u001b[0;34m\u001b[0m\u001b[0m\n\u001b[0;32m----> 4\u001b[0;31m \u001b[0min1\u001b[0m \u001b[0;34m=\u001b[0m \u001b[0mdata_pivot\u001b[0m\u001b[0;34m[\u001b[0m\u001b[0;34m'операции с автомобилем'\u001b[0m\u001b[0;34m]\u001b[0m\u001b[0;34m[\u001b[0m\u001b[0;36m1\u001b[0m\u001b[0;34m]\u001b[0m \u001b[0;34m/\u001b[0m \u001b[0mdata_pivot\u001b[0m\u001b[0;34m[\u001b[0m\u001b[0;34m'операции с автомобилем'\u001b[0m\u001b[0;34m]\u001b[0m\u001b[0;34m[\u001b[0m\u001b[0;36m0\u001b[0m\u001b[0;34m]\u001b[0m\u001b[0;34m\u001b[0m\u001b[0;34m\u001b[0m\u001b[0m\n\u001b[0m\u001b[1;32m      5\u001b[0m \u001b[0min2\u001b[0m \u001b[0;34m=\u001b[0m \u001b[0mdata_pivot\u001b[0m\u001b[0;34m[\u001b[0m\u001b[0;34m'операции с недвижимостью'\u001b[0m\u001b[0;34m]\u001b[0m\u001b[0;34m[\u001b[0m\u001b[0;36m1\u001b[0m\u001b[0;34m]\u001b[0m \u001b[0;34m/\u001b[0m \u001b[0mdata_pivot\u001b[0m\u001b[0;34m[\u001b[0m\u001b[0;34m'операции с недвижимостью'\u001b[0m\u001b[0;34m]\u001b[0m\u001b[0;34m[\u001b[0m\u001b[0;36m0\u001b[0m\u001b[0;34m]\u001b[0m\u001b[0;34m\u001b[0m\u001b[0;34m\u001b[0m\u001b[0m\n\u001b[1;32m      6\u001b[0m \u001b[0min3\u001b[0m \u001b[0;34m=\u001b[0m \u001b[0mdata_pivot\u001b[0m\u001b[0;34m[\u001b[0m\u001b[0;34m'получение образования'\u001b[0m\u001b[0;34m]\u001b[0m\u001b[0;34m[\u001b[0m\u001b[0;36m1\u001b[0m\u001b[0;34m]\u001b[0m \u001b[0;34m/\u001b[0m \u001b[0mdata_pivot\u001b[0m\u001b[0;34m[\u001b[0m\u001b[0;34m'получение образования'\u001b[0m\u001b[0;34m]\u001b[0m\u001b[0;34m[\u001b[0m\u001b[0;36m0\u001b[0m\u001b[0;34m]\u001b[0m\u001b[0;34m\u001b[0m\u001b[0;34m\u001b[0m\u001b[0m\n",
      "\u001b[0;32m/opt/conda/lib/python3.9/site-packages/pandas/core/frame.py\u001b[0m in \u001b[0;36m__getitem__\u001b[0;34m(self, key)\u001b[0m\n\u001b[1;32m   3021\u001b[0m         \u001b[0;32mif\u001b[0m \u001b[0mis_single_key\u001b[0m\u001b[0;34m:\u001b[0m\u001b[0;34m\u001b[0m\u001b[0;34m\u001b[0m\u001b[0m\n\u001b[1;32m   3022\u001b[0m             \u001b[0;32mif\u001b[0m \u001b[0mself\u001b[0m\u001b[0;34m.\u001b[0m\u001b[0mcolumns\u001b[0m\u001b[0;34m.\u001b[0m\u001b[0mnlevels\u001b[0m \u001b[0;34m>\u001b[0m \u001b[0;36m1\u001b[0m\u001b[0;34m:\u001b[0m\u001b[0;34m\u001b[0m\u001b[0;34m\u001b[0m\u001b[0m\n\u001b[0;32m-> 3023\u001b[0;31m                 \u001b[0;32mreturn\u001b[0m \u001b[0mself\u001b[0m\u001b[0;34m.\u001b[0m\u001b[0m_getitem_multilevel\u001b[0m\u001b[0;34m(\u001b[0m\u001b[0mkey\u001b[0m\u001b[0;34m)\u001b[0m\u001b[0;34m\u001b[0m\u001b[0;34m\u001b[0m\u001b[0m\n\u001b[0m\u001b[1;32m   3024\u001b[0m             \u001b[0mindexer\u001b[0m \u001b[0;34m=\u001b[0m \u001b[0mself\u001b[0m\u001b[0;34m.\u001b[0m\u001b[0mcolumns\u001b[0m\u001b[0;34m.\u001b[0m\u001b[0mget_loc\u001b[0m\u001b[0;34m(\u001b[0m\u001b[0mkey\u001b[0m\u001b[0;34m)\u001b[0m\u001b[0;34m\u001b[0m\u001b[0;34m\u001b[0m\u001b[0m\n\u001b[1;32m   3025\u001b[0m             \u001b[0;32mif\u001b[0m \u001b[0mis_integer\u001b[0m\u001b[0;34m(\u001b[0m\u001b[0mindexer\u001b[0m\u001b[0;34m)\u001b[0m\u001b[0;34m:\u001b[0m\u001b[0;34m\u001b[0m\u001b[0;34m\u001b[0m\u001b[0m\n",
      "\u001b[0;32m/opt/conda/lib/python3.9/site-packages/pandas/core/frame.py\u001b[0m in \u001b[0;36m_getitem_multilevel\u001b[0;34m(self, key)\u001b[0m\n\u001b[1;32m   3072\u001b[0m     \u001b[0;32mdef\u001b[0m \u001b[0m_getitem_multilevel\u001b[0m\u001b[0;34m(\u001b[0m\u001b[0mself\u001b[0m\u001b[0;34m,\u001b[0m \u001b[0mkey\u001b[0m\u001b[0;34m)\u001b[0m\u001b[0;34m:\u001b[0m\u001b[0;34m\u001b[0m\u001b[0;34m\u001b[0m\u001b[0m\n\u001b[1;32m   3073\u001b[0m         \u001b[0;31m# self.columns is a MultiIndex\u001b[0m\u001b[0;34m\u001b[0m\u001b[0;34m\u001b[0m\u001b[0;34m\u001b[0m\u001b[0m\n\u001b[0;32m-> 3074\u001b[0;31m         \u001b[0mloc\u001b[0m \u001b[0;34m=\u001b[0m \u001b[0mself\u001b[0m\u001b[0;34m.\u001b[0m\u001b[0mcolumns\u001b[0m\u001b[0;34m.\u001b[0m\u001b[0mget_loc\u001b[0m\u001b[0;34m(\u001b[0m\u001b[0mkey\u001b[0m\u001b[0;34m)\u001b[0m\u001b[0;34m\u001b[0m\u001b[0;34m\u001b[0m\u001b[0m\n\u001b[0m\u001b[1;32m   3075\u001b[0m         \u001b[0;32mif\u001b[0m \u001b[0misinstance\u001b[0m\u001b[0;34m(\u001b[0m\u001b[0mloc\u001b[0m\u001b[0;34m,\u001b[0m \u001b[0;34m(\u001b[0m\u001b[0mslice\u001b[0m\u001b[0;34m,\u001b[0m \u001b[0mnp\u001b[0m\u001b[0;34m.\u001b[0m\u001b[0mndarray\u001b[0m\u001b[0;34m)\u001b[0m\u001b[0;34m)\u001b[0m\u001b[0;34m:\u001b[0m\u001b[0;34m\u001b[0m\u001b[0;34m\u001b[0m\u001b[0m\n\u001b[1;32m   3076\u001b[0m             \u001b[0mnew_columns\u001b[0m \u001b[0;34m=\u001b[0m \u001b[0mself\u001b[0m\u001b[0;34m.\u001b[0m\u001b[0mcolumns\u001b[0m\u001b[0;34m[\u001b[0m\u001b[0mloc\u001b[0m\u001b[0;34m]\u001b[0m\u001b[0;34m\u001b[0m\u001b[0;34m\u001b[0m\u001b[0m\n",
      "\u001b[0;32m/opt/conda/lib/python3.9/site-packages/pandas/core/indexes/multi.py\u001b[0m in \u001b[0;36mget_loc\u001b[0;34m(self, key, method)\u001b[0m\n\u001b[1;32m   2874\u001b[0m \u001b[0;34m\u001b[0m\u001b[0m\n\u001b[1;32m   2875\u001b[0m         \u001b[0;32mif\u001b[0m \u001b[0;32mnot\u001b[0m \u001b[0misinstance\u001b[0m\u001b[0;34m(\u001b[0m\u001b[0mkey\u001b[0m\u001b[0;34m,\u001b[0m \u001b[0mtuple\u001b[0m\u001b[0;34m)\u001b[0m\u001b[0;34m:\u001b[0m\u001b[0;34m\u001b[0m\u001b[0;34m\u001b[0m\u001b[0m\n\u001b[0;32m-> 2876\u001b[0;31m             \u001b[0mloc\u001b[0m \u001b[0;34m=\u001b[0m \u001b[0mself\u001b[0m\u001b[0;34m.\u001b[0m\u001b[0m_get_level_indexer\u001b[0m\u001b[0;34m(\u001b[0m\u001b[0mkey\u001b[0m\u001b[0;34m,\u001b[0m \u001b[0mlevel\u001b[0m\u001b[0;34m=\u001b[0m\u001b[0;36m0\u001b[0m\u001b[0;34m)\u001b[0m\u001b[0;34m\u001b[0m\u001b[0;34m\u001b[0m\u001b[0m\n\u001b[0m\u001b[1;32m   2877\u001b[0m             \u001b[0;32mreturn\u001b[0m \u001b[0m_maybe_to_slice\u001b[0m\u001b[0;34m(\u001b[0m\u001b[0mloc\u001b[0m\u001b[0;34m)\u001b[0m\u001b[0;34m\u001b[0m\u001b[0;34m\u001b[0m\u001b[0m\n\u001b[1;32m   2878\u001b[0m \u001b[0;34m\u001b[0m\u001b[0m\n",
      "\u001b[0;32m/opt/conda/lib/python3.9/site-packages/pandas/core/indexes/multi.py\u001b[0m in \u001b[0;36m_get_level_indexer\u001b[0;34m(self, key, level, indexer)\u001b[0m\n\u001b[1;32m   3156\u001b[0m         \u001b[0;32melse\u001b[0m\u001b[0;34m:\u001b[0m\u001b[0;34m\u001b[0m\u001b[0;34m\u001b[0m\u001b[0m\n\u001b[1;32m   3157\u001b[0m \u001b[0;34m\u001b[0m\u001b[0m\n\u001b[0;32m-> 3158\u001b[0;31m             \u001b[0midx\u001b[0m \u001b[0;34m=\u001b[0m \u001b[0mself\u001b[0m\u001b[0;34m.\u001b[0m\u001b[0m_get_loc_single_level_index\u001b[0m\u001b[0;34m(\u001b[0m\u001b[0mlevel_index\u001b[0m\u001b[0;34m,\u001b[0m \u001b[0mkey\u001b[0m\u001b[0;34m)\u001b[0m\u001b[0;34m\u001b[0m\u001b[0;34m\u001b[0m\u001b[0m\n\u001b[0m\u001b[1;32m   3159\u001b[0m \u001b[0;34m\u001b[0m\u001b[0m\n\u001b[1;32m   3160\u001b[0m             \u001b[0;32mif\u001b[0m \u001b[0mlevel\u001b[0m \u001b[0;34m>\u001b[0m \u001b[0;36m0\u001b[0m \u001b[0;32mor\u001b[0m \u001b[0mself\u001b[0m\u001b[0;34m.\u001b[0m\u001b[0mlexsort_depth\u001b[0m \u001b[0;34m==\u001b[0m \u001b[0;36m0\u001b[0m\u001b[0;34m:\u001b[0m\u001b[0;34m\u001b[0m\u001b[0;34m\u001b[0m\u001b[0m\n",
      "\u001b[0;32m/opt/conda/lib/python3.9/site-packages/pandas/core/indexes/multi.py\u001b[0m in \u001b[0;36m_get_loc_single_level_index\u001b[0;34m(self, level_index, key)\u001b[0m\n\u001b[1;32m   2807\u001b[0m             \u001b[0;32mreturn\u001b[0m \u001b[0;34m-\u001b[0m\u001b[0;36m1\u001b[0m\u001b[0;34m\u001b[0m\u001b[0;34m\u001b[0m\u001b[0m\n\u001b[1;32m   2808\u001b[0m         \u001b[0;32melse\u001b[0m\u001b[0;34m:\u001b[0m\u001b[0;34m\u001b[0m\u001b[0;34m\u001b[0m\u001b[0m\n\u001b[0;32m-> 2809\u001b[0;31m             \u001b[0;32mreturn\u001b[0m \u001b[0mlevel_index\u001b[0m\u001b[0;34m.\u001b[0m\u001b[0mget_loc\u001b[0m\u001b[0;34m(\u001b[0m\u001b[0mkey\u001b[0m\u001b[0;34m)\u001b[0m\u001b[0;34m\u001b[0m\u001b[0;34m\u001b[0m\u001b[0m\n\u001b[0m\u001b[1;32m   2810\u001b[0m \u001b[0;34m\u001b[0m\u001b[0m\n\u001b[1;32m   2811\u001b[0m     \u001b[0;32mdef\u001b[0m \u001b[0mget_loc\u001b[0m\u001b[0;34m(\u001b[0m\u001b[0mself\u001b[0m\u001b[0;34m,\u001b[0m \u001b[0mkey\u001b[0m\u001b[0;34m,\u001b[0m \u001b[0mmethod\u001b[0m\u001b[0;34m=\u001b[0m\u001b[0;32mNone\u001b[0m\u001b[0;34m)\u001b[0m\u001b[0;34m:\u001b[0m\u001b[0;34m\u001b[0m\u001b[0;34m\u001b[0m\u001b[0m\n",
      "\u001b[0;32m/opt/conda/lib/python3.9/site-packages/pandas/core/indexes/base.py\u001b[0m in \u001b[0;36mget_loc\u001b[0;34m(self, key, method, tolerance)\u001b[0m\n\u001b[1;32m   3080\u001b[0m                 \u001b[0;32mreturn\u001b[0m \u001b[0mself\u001b[0m\u001b[0;34m.\u001b[0m\u001b[0m_engine\u001b[0m\u001b[0;34m.\u001b[0m\u001b[0mget_loc\u001b[0m\u001b[0;34m(\u001b[0m\u001b[0mcasted_key\u001b[0m\u001b[0;34m)\u001b[0m\u001b[0;34m\u001b[0m\u001b[0;34m\u001b[0m\u001b[0m\n\u001b[1;32m   3081\u001b[0m             \u001b[0;32mexcept\u001b[0m \u001b[0mKeyError\u001b[0m \u001b[0;32mas\u001b[0m \u001b[0merr\u001b[0m\u001b[0;34m:\u001b[0m\u001b[0;34m\u001b[0m\u001b[0;34m\u001b[0m\u001b[0m\n\u001b[0;32m-> 3082\u001b[0;31m                 \u001b[0;32mraise\u001b[0m \u001b[0mKeyError\u001b[0m\u001b[0;34m(\u001b[0m\u001b[0mkey\u001b[0m\u001b[0;34m)\u001b[0m \u001b[0;32mfrom\u001b[0m \u001b[0merr\u001b[0m\u001b[0;34m\u001b[0m\u001b[0;34m\u001b[0m\u001b[0m\n\u001b[0m\u001b[1;32m   3083\u001b[0m \u001b[0;34m\u001b[0m\u001b[0m\n\u001b[1;32m   3084\u001b[0m         \u001b[0;32mif\u001b[0m \u001b[0mtolerance\u001b[0m \u001b[0;32mis\u001b[0m \u001b[0;32mnot\u001b[0m \u001b[0;32mNone\u001b[0m\u001b[0;34m:\u001b[0m\u001b[0;34m\u001b[0m\u001b[0;34m\u001b[0m\u001b[0m\n",
      "\u001b[0;31mKeyError\u001b[0m: 'операции с автомобилем'"
     ]
    }
   ],
   "source": [
    "#Почему-то не видить 'операции с автомобилем', не пойму с чем связано \n",
    "data_pivot = data.pivot_table(index=['purpose_category'], values='debt',aggfunc=['sum', 'count'])\n",
    "\n",
    "in1 = data_pivot['операции с автомобилем'][1] / data_pivot['операции с автомобилем'][0]\n",
    "in2 = data_pivot['операции с недвижимостью'][1] / data_pivot['операции с недвижимостью'][0]\n",
    "in3 = data_pivot['получение образования'][1] / data_pivot['получение образования'][0]\n",
    "in4 = data_pivot['проведение свадьбы'][1] / data_pivot['проведение свадьбы'][0]\n",
    "\n",
    "print(\"{0:.2f}% операции с автомобилем\".format(in1*100))\n",
    "print(\"{0:.2f}% операции с недвижимостью\".format(in2*100))\n",
    "print(\"{0:.2f}% получение образования\".format(in3*100))\n",
    "print(\"{0:.2f}% проведение свадьбы\".format(in4*100))\n"
   ]
  },
  {
   "cell_type": "code",
   "execution_count": 32,
   "id": "50a40709",
   "metadata": {},
   "outputs": [
    {
     "data": {
      "text/html": [
       "<div>\n",
       "<style scoped>\n",
       "    .dataframe tbody tr th:only-of-type {\n",
       "        vertical-align: middle;\n",
       "    }\n",
       "\n",
       "    .dataframe tbody tr th {\n",
       "        vertical-align: top;\n",
       "    }\n",
       "\n",
       "    .dataframe thead tr th {\n",
       "        text-align: left;\n",
       "    }\n",
       "\n",
       "    .dataframe thead tr:last-of-type th {\n",
       "        text-align: right;\n",
       "    }\n",
       "</style>\n",
       "<table border=\"1\" class=\"dataframe\">\n",
       "  <thead>\n",
       "    <tr>\n",
       "      <th></th>\n",
       "      <th>sum</th>\n",
       "      <th>count</th>\n",
       "    </tr>\n",
       "    <tr>\n",
       "      <th></th>\n",
       "      <th>debt</th>\n",
       "      <th>debt</th>\n",
       "    </tr>\n",
       "    <tr>\n",
       "      <th>purpose_category</th>\n",
       "      <th></th>\n",
       "      <th></th>\n",
       "    </tr>\n",
       "  </thead>\n",
       "  <tbody>\n",
       "    <tr>\n",
       "      <th>операции с автомобилем</th>\n",
       "      <td>400</td>\n",
       "      <td>4279</td>\n",
       "    </tr>\n",
       "    <tr>\n",
       "      <th>операции с недвижимостью</th>\n",
       "      <td>780</td>\n",
       "      <td>10751</td>\n",
       "    </tr>\n",
       "    <tr>\n",
       "      <th>получение образования</th>\n",
       "      <td>369</td>\n",
       "      <td>3988</td>\n",
       "    </tr>\n",
       "    <tr>\n",
       "      <th>проведение свадьбы</th>\n",
       "      <td>183</td>\n",
       "      <td>2313</td>\n",
       "    </tr>\n",
       "  </tbody>\n",
       "</table>\n",
       "</div>"
      ],
      "text/plain": [
       "                          sum  count\n",
       "                         debt   debt\n",
       "purpose_category                    \n",
       "операции с автомобилем    400   4279\n",
       "операции с недвижимостью  780  10751\n",
       "получение образования     369   3988\n",
       "проведение свадьбы        183   2313"
      ]
     },
     "execution_count": 32,
     "metadata": {},
     "output_type": "execute_result"
    }
   ],
   "source": [
    "data_pivot"
   ]
  },
  {
   "cell_type": "markdown",
   "id": "01b61059",
   "metadata": {},
   "source": [
    "<div class=\"alert alert-danger\">\n",
    "<font size=\"5\"><b>Комментарий ревьюера 3</b></font>\n",
    "\n",
    "Ошибка: Ты находишь сумму возрастов должников и недолжников. Отношения данных показателей не являются долей долга в группе. Ниже привожу таблицу с числом должников и общим числом пользователей в каждой из групп. Рассчитай долю долга в каждой группе на ее основании. \n",
    "\n",
    "</div>"
   ]
  },
  {
   "cell_type": "code",
   "execution_count": 33,
   "id": "0fac142d",
   "metadata": {},
   "outputs": [
    {
     "data": {
      "text/html": [
       "<div>\n",
       "<style scoped>\n",
       "    .dataframe tbody tr th:only-of-type {\n",
       "        vertical-align: middle;\n",
       "    }\n",
       "\n",
       "    .dataframe tbody tr th {\n",
       "        vertical-align: top;\n",
       "    }\n",
       "\n",
       "    .dataframe thead tr th {\n",
       "        text-align: left;\n",
       "    }\n",
       "\n",
       "    .dataframe thead tr:last-of-type th {\n",
       "        text-align: right;\n",
       "    }\n",
       "</style>\n",
       "<table border=\"1\" class=\"dataframe\">\n",
       "  <thead>\n",
       "    <tr>\n",
       "      <th></th>\n",
       "      <th>sum</th>\n",
       "      <th>count</th>\n",
       "    </tr>\n",
       "    <tr>\n",
       "      <th></th>\n",
       "      <th>debt</th>\n",
       "      <th>debt</th>\n",
       "    </tr>\n",
       "    <tr>\n",
       "      <th>purpose_category</th>\n",
       "      <th></th>\n",
       "      <th></th>\n",
       "    </tr>\n",
       "  </thead>\n",
       "  <tbody>\n",
       "    <tr>\n",
       "      <th>операции с автомобилем</th>\n",
       "      <td>400</td>\n",
       "      <td>4279</td>\n",
       "    </tr>\n",
       "    <tr>\n",
       "      <th>операции с недвижимостью</th>\n",
       "      <td>780</td>\n",
       "      <td>10751</td>\n",
       "    </tr>\n",
       "    <tr>\n",
       "      <th>получение образования</th>\n",
       "      <td>369</td>\n",
       "      <td>3988</td>\n",
       "    </tr>\n",
       "    <tr>\n",
       "      <th>проведение свадьбы</th>\n",
       "      <td>183</td>\n",
       "      <td>2313</td>\n",
       "    </tr>\n",
       "  </tbody>\n",
       "</table>\n",
       "</div>"
      ],
      "text/plain": [
       "                          sum  count\n",
       "                         debt   debt\n",
       "purpose_category                    \n",
       "операции с автомобилем    400   4279\n",
       "операции с недвижимостью  780  10751\n",
       "получение образования     369   3988\n",
       "проведение свадьбы        183   2313"
      ]
     },
     "execution_count": 33,
     "metadata": {},
     "output_type": "execute_result"
    }
   ],
   "source": [
    "# Код ревьюера\n",
    "data.pivot_table(index=['purpose_category'], values='debt',aggfunc=['sum', 'count'])"
   ]
  },
  {
   "cell_type": "markdown",
   "id": "4c146544",
   "metadata": {},
   "source": [
    "<div class=\"alert alert-danger\">\n",
    "<font size=\"5\"><b>Комментарий ревьюера</b></font>\n",
    "\n",
    "Ошибка: Аналогично, параметр цели мы категоризовали ранее. Согласись, доля должников не должна зависеть от того, как клиент сформулировал цель \"покупка авто\" или \"авто\". Анализировать нужно параметр purpose_category.\n",
    "</div>"
   ]
  },
  {
   "cell_type": "markdown",
   "id": "e7212be6",
   "metadata": {
    "deletable": false,
    "id": "b4bb2ce6"
   },
   "source": [
    "**Вывод:** Исходя из выводов больше всего просрочек у людей которые берут кредит на образование и автомобиль, скорее всего из-за своих переоценных возможностей.\n",
    "меньше всего просрочек у людей которые берут кредит на жилье(ипотека), а так же на проведение свадьбы."
   ]
  },
  {
   "cell_type": "markdown",
   "id": "16fd6af0",
   "metadata": {},
   "source": [
    "<div class=\"alert alert-danger\">\n",
    "<font size=\"5\"><b>Комментарий ревьюера</b></font>\n",
    "\n",
    "Ошибка: На данном шаге рекомендуется использовать метод сводных таблиц (pivot_table()). Однако он является аналогом метода groupby(). Изучи метод сводных таблиц и примени его хотя бы в одном пункте анализа.\n",
    "\n",
    "</div>"
   ]
  },
  {
   "cell_type": "markdown",
   "id": "45b9c181",
   "metadata": {},
   "source": [
    "<div class=\"alert alert-danger\">\n",
    "<font size=\"5\"><b>Комментарий ревьюера 2</b></font>\n",
    "\n",
    "Ошибка: Результат не совсем правильный. Ты делишь число должников на число недолжников. Это не доля должников в группе. Для расчета доли должников нужно число должников делить на общее число клиентов в группе, т.е. на сумму должников и недолжников. Таблицу выше лучше адаптировать, поменять местами строки и столбцы. Так работать с ней станет несколько проще. \n",
    "\n",
    "</div>"
   ]
  },
  {
   "cell_type": "markdown",
   "id": "ba4150f8",
   "metadata": {
    "deletable": false,
    "editable": false,
    "id": "09c3ac4c"
   },
   "source": [
    "#### 3.5 Приведите возможные причины появления пропусков в исходных данных."
   ]
  },
  {
   "cell_type": "markdown",
   "id": "40f5af21",
   "metadata": {
    "deletable": false,
    "id": "9da2ceda"
   },
   "source": [
    "*Ответ:* Человеческий фактор, сбой программы или оборудования, некорректное считывание данных, пользователь может сам не внести какие-либо данные."
   ]
  },
  {
   "cell_type": "markdown",
   "id": "cf056eed",
   "metadata": {
    "deletable": false,
    "editable": false,
    "id": "7b0487d6"
   },
   "source": [
    "#### 3.6 Объясните, почему заполнить пропуски медианным значением — лучшее решение для количественных переменных."
   ]
  },
  {
   "cell_type": "markdown",
   "id": "3e6c2df2",
   "metadata": {
    "deletable": false,
    "id": "7ecf2b8e"
   },
   "source": [
    "*Ответ:* Медиана обладает более крепкой характеристикой, так как на нее не влияют случайные выбросы. Если данные в большом количестве и распределины корректно, то соотсвественно медиана будет равняться среднему значению."
   ]
  },
  {
   "cell_type": "markdown",
   "id": "cd050021",
   "metadata": {},
   "source": [
    " <div class=\"alert alert-danger\">\n",
    "<font size=\"5\"><b>Комментарий ревьюера</b></font>\n",
    "\n",
    "Ошибка: Совсем не понял предложение выше. Что такое медиана для среднего? Попробуй переформулировать фразу выше. Почему использование медианы в нашем случае - более выгодный способ по сравнению с обработкой пропусков средним?\n",
    "\n",
    "</div>"
   ]
  },
  {
   "cell_type": "markdown",
   "id": "c7e2f9b5",
   "metadata": {},
   "source": [
    "<div class=\"alert alert-success\">\n",
    "<font size=\"5\"><b>Комментарий ревьюера 2</b></font>\n",
    "\n",
    "Успех: Да, все верно. \n",
    "\n",
    "</div>"
   ]
  },
  {
   "cell_type": "markdown",
   "id": "2dacbc64",
   "metadata": {
    "deletable": false,
    "editable": false,
    "id": "6db5255a"
   },
   "source": [
    "### Шаг 4: общий вывод."
   ]
  },
  {
   "cell_type": "markdown",
   "id": "76c4489d",
   "metadata": {
    "deletable": false,
    "id": "bad65432"
   },
   "source": [
    "На основании вышеперечисленного можно сделать вывод, что меньше всего просрочек у людей которые имееют как можно больше детей так как на основании таблицы мы видим что те у кого нет детей  вообще(0,07) или их количество равняется 5(0,00) самые маленький коэффициент просрочек. Люди которые находятся одни, а это вдова/ вдовец(0,66) или разведенные(0,7) их доля просрочек так же меньше по сравнению с людьми кто не женат или не замужем(0,97) или находится в гражданском браке(0,93).Так же доля просрочек меньше у людей кто берет кредит на совершение операций с недвижимостью(7,8%) и проведение свадеб(8,5%). Доля просрочек так же меньше у людей  с доходностью от 30 до 50 т. и с доходностью от 200 до 1000 т.\n",
    "Был проведен анализ по фактором которые влият на возврат средств, а именно количество детей, семейное положение, уровень дохода, цель кредита. "
   ]
  },
  {
   "cell_type": "markdown",
   "id": "47746ded",
   "metadata": {},
   "source": [
    "<div class=\"alert alert-danger\">\n",
    "<font size=\"5\"><b>Комментарий ревьюера</b></font>\n",
    "\n",
    "Ошибка: Финальный вывод и есть главный результат твоей работы. Стоит писать его подробно по результатам проведенной работы. В нем можно приводить полученные в ходе работы значения. Также можно расписать все, что было сделано в работе.\n",
    "\n",
    "</div>"
   ]
  },
  {
   "cell_type": "markdown",
   "id": "ef9b4580",
   "metadata": {},
   "source": [
    "<div class=\"alert alert-success\">\n",
    "<font size=\"5\"><b>Комментарий ревьюера 2</b></font>\n",
    "\n",
    "Успех: Выводы сделаны. Приведены ответы на главные вопросы проекта. В выводах можно приводить полученные ранее значения, правильно. Здорово, что по каждому пункту работы приведен вывод.     \n",
    "\n",
    "</div>"
   ]
  },
  {
   "cell_type": "markdown",
   "id": "6f206a00",
   "metadata": {},
   "source": [
    "<div class=\"alert alert-info\">\n",
    "<font size=\"5\"><b>Комментарий ревьюера</b></font>\n",
    "\n",
    "Ты проделал большую работу, молодец! Важно теперь исправить отмеченные помарки. При необходиммости можешь задавать вопросы. Жду твою работу :)\n",
    "\n",
    "</div>"
   ]
  },
  {
   "cell_type": "markdown",
   "id": "eb3e71e7",
   "metadata": {},
   "source": [
    "<div class=\"alert alert-info\">\n",
    "<font size=\"5\"><b>Комментарий ревьюера 2</b></font>\n",
    "\n",
    "Ты здорово поработал. Осталось лишь разобраться со своднымми таблицами, и проект будет готов. Буду ждать твой проект :)\n",
    "\n",
    "</div>"
   ]
  }
 ],
 "metadata": {
  "ExecuteTimeLog": [
   {
    "duration": 505,
    "start_time": "2022-10-27T20:03:40.014Z"
   },
   {
    "duration": 51,
    "start_time": "2022-10-28T08:39:20.664Z"
   },
   {
    "duration": 6,
    "start_time": "2022-10-28T08:39:29.392Z"
   },
   {
    "duration": 7,
    "start_time": "2022-10-28T08:41:59.900Z"
   },
   {
    "duration": 2,
    "start_time": "2022-10-28T08:42:01.377Z"
   },
   {
    "duration": 9,
    "start_time": "2022-10-28T08:43:27.259Z"
   },
   {
    "duration": 44,
    "start_time": "2022-10-28T08:45:52.684Z"
   },
   {
    "duration": 8,
    "start_time": "2022-10-28T08:49:20.015Z"
   },
   {
    "duration": 7,
    "start_time": "2022-10-28T08:52:06.720Z"
   },
   {
    "duration": 6,
    "start_time": "2022-10-28T08:57:47.151Z"
   },
   {
    "duration": 7,
    "start_time": "2022-10-28T08:58:05.054Z"
   },
   {
    "duration": 450,
    "start_time": "2022-10-28T08:59:08.961Z"
   },
   {
    "duration": 97,
    "start_time": "2022-10-28T09:01:56.655Z"
   },
   {
    "duration": 81,
    "start_time": "2022-10-28T09:02:03.248Z"
   },
   {
    "duration": 79,
    "start_time": "2022-10-28T09:04:09.897Z"
   },
   {
    "duration": 14,
    "start_time": "2022-10-28T09:05:16.641Z"
   },
   {
    "duration": 13,
    "start_time": "2022-10-28T09:09:29.435Z"
   },
   {
    "duration": 42,
    "start_time": "2022-10-28T09:13:32.417Z"
   },
   {
    "duration": 6,
    "start_time": "2022-10-28T09:14:55.136Z"
   },
   {
    "duration": 5,
    "start_time": "2022-10-28T09:15:09.890Z"
   },
   {
    "duration": 435,
    "start_time": "2022-10-28T09:15:27.964Z"
   },
   {
    "duration": 20,
    "start_time": "2022-10-28T09:15:31.467Z"
   },
   {
    "duration": 15,
    "start_time": "2022-10-28T09:15:33.344Z"
   },
   {
    "duration": 11,
    "start_time": "2022-10-28T09:15:35.799Z"
   },
   {
    "duration": 31,
    "start_time": "2022-10-28T09:15:40.002Z"
   },
   {
    "duration": 3,
    "start_time": "2022-10-28T09:15:41.096Z"
   },
   {
    "duration": 9,
    "start_time": "2022-10-28T09:15:41.766Z"
   },
   {
    "duration": 5,
    "start_time": "2022-10-28T09:15:42.805Z"
   },
   {
    "duration": 7,
    "start_time": "2022-10-28T09:15:43.467Z"
   },
   {
    "duration": 5,
    "start_time": "2022-10-28T09:15:44.036Z"
   },
   {
    "duration": 28,
    "start_time": "2022-10-28T09:15:44.592Z"
   },
   {
    "duration": 9,
    "start_time": "2022-10-28T09:15:44.958Z"
   },
   {
    "duration": 4,
    "start_time": "2022-10-28T09:15:45.698Z"
   },
   {
    "duration": 12,
    "start_time": "2022-10-28T09:15:46.236Z"
   },
   {
    "duration": 17,
    "start_time": "2022-10-28T09:15:46.592Z"
   },
   {
    "duration": 16,
    "start_time": "2022-10-28T09:15:46.804Z"
   },
   {
    "duration": 4,
    "start_time": "2022-10-28T09:15:47.690Z"
   },
   {
    "duration": 9,
    "start_time": "2022-10-28T09:15:47.837Z"
   },
   {
    "duration": 6,
    "start_time": "2022-10-28T09:15:48.345Z"
   },
   {
    "duration": 4,
    "start_time": "2022-10-28T09:15:48.892Z"
   },
   {
    "duration": 8,
    "start_time": "2022-10-28T09:15:49.282Z"
   },
   {
    "duration": 21,
    "start_time": "2022-10-28T09:15:50.049Z"
   },
   {
    "duration": 17,
    "start_time": "2022-10-28T09:32:39.761Z"
   },
   {
    "duration": 13,
    "start_time": "2022-10-28T09:33:43.652Z"
   },
   {
    "duration": 12,
    "start_time": "2022-10-28T09:38:04.508Z"
   },
   {
    "duration": 715,
    "start_time": "2022-10-28T10:21:17.299Z"
   },
   {
    "duration": 22,
    "start_time": "2022-10-28T10:21:18.016Z"
   },
   {
    "duration": 14,
    "start_time": "2022-10-28T10:21:18.040Z"
   },
   {
    "duration": 11,
    "start_time": "2022-10-28T10:21:18.057Z"
   },
   {
    "duration": 46,
    "start_time": "2022-10-28T10:21:18.070Z"
   },
   {
    "duration": 4,
    "start_time": "2022-10-28T10:21:18.117Z"
   },
   {
    "duration": 15,
    "start_time": "2022-10-28T10:21:18.122Z"
   },
   {
    "duration": 3,
    "start_time": "2022-10-28T10:21:18.139Z"
   },
   {
    "duration": 7,
    "start_time": "2022-10-28T10:21:18.144Z"
   },
   {
    "duration": 5,
    "start_time": "2022-10-28T10:21:18.153Z"
   },
   {
    "duration": 52,
    "start_time": "2022-10-28T10:21:18.159Z"
   },
   {
    "duration": 8,
    "start_time": "2022-10-28T10:21:18.213Z"
   },
   {
    "duration": 3,
    "start_time": "2022-10-28T10:21:18.223Z"
   },
   {
    "duration": 18,
    "start_time": "2022-10-28T10:21:18.227Z"
   },
   {
    "duration": 23,
    "start_time": "2022-10-28T10:21:18.247Z"
   },
   {
    "duration": 17,
    "start_time": "2022-10-28T10:21:18.271Z"
   },
   {
    "duration": 21,
    "start_time": "2022-10-28T10:21:18.289Z"
   },
   {
    "duration": 12,
    "start_time": "2022-10-28T10:21:18.313Z"
   },
   {
    "duration": 5,
    "start_time": "2022-10-28T10:21:18.326Z"
   },
   {
    "duration": 4,
    "start_time": "2022-10-28T10:21:18.332Z"
   },
   {
    "duration": 10,
    "start_time": "2022-10-28T10:21:18.338Z"
   },
   {
    "duration": 18,
    "start_time": "2022-10-28T10:21:18.350Z"
   },
   {
    "duration": 9,
    "start_time": "2022-10-28T10:21:18.369Z"
   },
   {
    "duration": 40,
    "start_time": "2022-10-28T10:21:18.380Z"
   },
   {
    "duration": 10,
    "start_time": "2022-10-28T10:21:18.422Z"
   },
   {
    "duration": 49,
    "start_time": "2022-11-02T13:55:59.723Z"
   },
   {
    "duration": 6,
    "start_time": "2022-11-02T13:56:42.219Z"
   },
   {
    "duration": 43,
    "start_time": "2022-11-02T13:57:44.689Z"
   },
   {
    "duration": 7,
    "start_time": "2022-11-02T13:57:48.883Z"
   },
   {
    "duration": 6,
    "start_time": "2022-11-02T14:02:53.356Z"
   },
   {
    "duration": 46,
    "start_time": "2022-11-02T14:07:50.971Z"
   },
   {
    "duration": 7,
    "start_time": "2022-11-02T14:08:37.256Z"
   },
   {
    "duration": 8,
    "start_time": "2022-11-02T14:08:47.723Z"
   },
   {
    "duration": 5,
    "start_time": "2022-11-02T14:08:54.442Z"
   },
   {
    "duration": 7,
    "start_time": "2022-11-02T14:12:01.677Z"
   },
   {
    "duration": 6,
    "start_time": "2022-11-02T14:12:06.670Z"
   },
   {
    "duration": 7,
    "start_time": "2022-11-02T14:12:20.008Z"
   },
   {
    "duration": 5,
    "start_time": "2022-11-02T14:13:04.957Z"
   },
   {
    "duration": 6,
    "start_time": "2022-11-02T14:14:08.067Z"
   },
   {
    "duration": 456,
    "start_time": "2022-11-02T14:14:15.425Z"
   },
   {
    "duration": 21,
    "start_time": "2022-11-02T14:14:15.883Z"
   },
   {
    "duration": 13,
    "start_time": "2022-11-02T14:14:16.058Z"
   },
   {
    "duration": 8,
    "start_time": "2022-11-02T14:14:16.691Z"
   },
   {
    "duration": 30,
    "start_time": "2022-11-02T14:14:17.020Z"
   },
   {
    "duration": 4,
    "start_time": "2022-11-02T14:14:17.536Z"
   },
   {
    "duration": 9,
    "start_time": "2022-11-02T14:14:17.890Z"
   },
   {
    "duration": 4,
    "start_time": "2022-11-02T14:14:18.426Z"
   },
   {
    "duration": 7,
    "start_time": "2022-11-02T14:14:18.823Z"
   },
   {
    "duration": 5,
    "start_time": "2022-11-02T14:14:19.214Z"
   },
   {
    "duration": 40,
    "start_time": "2022-11-02T14:14:19.765Z"
   },
   {
    "duration": 8,
    "start_time": "2022-11-02T14:14:20.123Z"
   },
   {
    "duration": 3,
    "start_time": "2022-11-02T14:14:20.690Z"
   },
   {
    "duration": 10,
    "start_time": "2022-11-02T14:14:21.230Z"
   },
   {
    "duration": 20,
    "start_time": "2022-11-02T14:14:21.643Z"
   },
   {
    "duration": 19,
    "start_time": "2022-11-02T14:14:21.867Z"
   },
   {
    "duration": 4,
    "start_time": "2022-11-02T14:14:23.754Z"
   },
   {
    "duration": 9,
    "start_time": "2022-11-02T14:14:24.151Z"
   },
   {
    "duration": 5,
    "start_time": "2022-11-02T14:14:24.869Z"
   },
   {
    "duration": 3,
    "start_time": "2022-11-02T14:14:25.871Z"
   },
   {
    "duration": 8,
    "start_time": "2022-11-02T14:14:26.483Z"
   },
   {
    "duration": 17,
    "start_time": "2022-11-02T14:14:28.658Z"
   },
   {
    "duration": 10,
    "start_time": "2022-11-02T14:14:34.525Z"
   },
   {
    "duration": 9,
    "start_time": "2022-11-02T14:14:39.772Z"
   },
   {
    "duration": 29,
    "start_time": "2022-11-02T14:16:00.532Z"
   },
   {
    "duration": 19,
    "start_time": "2022-11-02T14:22:18.280Z"
   },
   {
    "duration": 18,
    "start_time": "2022-11-02T14:22:35.629Z"
   },
   {
    "duration": 17,
    "start_time": "2022-11-02T14:22:39.580Z"
   },
   {
    "duration": 10,
    "start_time": "2022-11-02T14:22:50.331Z"
   },
   {
    "duration": 18,
    "start_time": "2022-11-02T14:22:53.300Z"
   },
   {
    "duration": 14,
    "start_time": "2022-11-02T14:22:59.055Z"
   },
   {
    "duration": 17,
    "start_time": "2022-11-02T14:23:22.434Z"
   },
   {
    "duration": 1292,
    "start_time": "2022-11-02T14:25:58.728Z"
   },
   {
    "duration": 10,
    "start_time": "2022-11-02T14:27:25.598Z"
   },
   {
    "duration": 1167,
    "start_time": "2022-11-02T14:28:00.187Z"
   },
   {
    "duration": 19,
    "start_time": "2022-11-02T14:28:33.664Z"
   },
   {
    "duration": 129,
    "start_time": "2022-11-02T14:29:59.364Z"
   },
   {
    "duration": 116,
    "start_time": "2022-11-02T14:30:28.696Z"
   },
   {
    "duration": 15,
    "start_time": "2022-11-02T14:33:57.483Z"
   },
   {
    "duration": 15,
    "start_time": "2022-11-02T14:34:09.332Z"
   },
   {
    "duration": 19,
    "start_time": "2022-11-02T14:34:17.935Z"
   },
   {
    "duration": 1098,
    "start_time": "2022-11-02T14:34:33.175Z"
   },
   {
    "duration": 3,
    "start_time": "2022-11-02T14:37:00.145Z"
   },
   {
    "duration": 8,
    "start_time": "2022-11-02T14:37:00.565Z"
   },
   {
    "duration": 8,
    "start_time": "2022-11-02T14:37:03.312Z"
   },
   {
    "duration": 8,
    "start_time": "2022-11-02T14:37:06.098Z"
   },
   {
    "duration": 17,
    "start_time": "2022-11-02T14:37:27.868Z"
   },
   {
    "duration": 11,
    "start_time": "2022-11-02T14:37:36.027Z"
   },
   {
    "duration": 15,
    "start_time": "2022-11-02T14:40:20.906Z"
   },
   {
    "duration": 168,
    "start_time": "2022-11-02T14:47:07.772Z"
   },
   {
    "duration": 455,
    "start_time": "2022-11-02T14:49:17.047Z"
   },
   {
    "duration": 22,
    "start_time": "2022-11-02T14:49:18.127Z"
   },
   {
    "duration": 14,
    "start_time": "2022-11-02T14:49:20.258Z"
   },
   {
    "duration": 8,
    "start_time": "2022-11-02T14:49:22.178Z"
   },
   {
    "duration": 29,
    "start_time": "2022-11-02T14:49:23.315Z"
   },
   {
    "duration": 3,
    "start_time": "2022-11-02T14:49:24.462Z"
   },
   {
    "duration": 8,
    "start_time": "2022-11-02T14:49:25.213Z"
   },
   {
    "duration": 4,
    "start_time": "2022-11-02T14:49:26.267Z"
   },
   {
    "duration": 7,
    "start_time": "2022-11-02T14:49:26.733Z"
   },
   {
    "duration": 4,
    "start_time": "2022-11-02T14:49:27.238Z"
   },
   {
    "duration": 37,
    "start_time": "2022-11-02T14:49:28.097Z"
   },
   {
    "duration": 10,
    "start_time": "2022-11-02T14:49:28.683Z"
   },
   {
    "duration": 4,
    "start_time": "2022-11-02T14:49:29.761Z"
   },
   {
    "duration": 12,
    "start_time": "2022-11-02T14:49:30.516Z"
   },
   {
    "duration": 18,
    "start_time": "2022-11-02T14:49:31.122Z"
   },
   {
    "duration": 16,
    "start_time": "2022-11-02T14:49:31.386Z"
   },
   {
    "duration": 4,
    "start_time": "2022-11-02T14:49:32.224Z"
   },
   {
    "duration": 10,
    "start_time": "2022-11-02T14:49:32.527Z"
   },
   {
    "duration": 5,
    "start_time": "2022-11-02T14:49:33.086Z"
   },
   {
    "duration": 3,
    "start_time": "2022-11-02T14:49:33.710Z"
   },
   {
    "duration": 11,
    "start_time": "2022-11-02T14:49:34.140Z"
   },
   {
    "duration": 20,
    "start_time": "2022-11-02T14:49:35.211Z"
   },
   {
    "duration": 11,
    "start_time": "2022-11-02T14:49:37.780Z"
   },
   {
    "duration": 126,
    "start_time": "2022-11-02T14:49:40.822Z"
   },
   {
    "duration": 17,
    "start_time": "2022-11-02T14:49:43.720Z"
   },
   {
    "duration": 76,
    "start_time": "2022-11-02T14:52:08.501Z"
   },
   {
    "duration": 70,
    "start_time": "2022-11-02T14:53:10.548Z"
   },
   {
    "duration": 97,
    "start_time": "2022-11-02T14:53:23.089Z"
   },
   {
    "duration": 60,
    "start_time": "2022-11-02T14:53:56.857Z"
   },
   {
    "duration": 13,
    "start_time": "2022-11-02T14:54:12.034Z"
   },
   {
    "duration": 11,
    "start_time": "2022-11-02T14:54:34.208Z"
   },
   {
    "duration": 129,
    "start_time": "2022-11-02T14:59:48.712Z"
   },
   {
    "duration": 39,
    "start_time": "2022-11-02T15:00:11.093Z"
   },
   {
    "duration": 43,
    "start_time": "2022-11-02T15:01:12.733Z"
   },
   {
    "duration": 18,
    "start_time": "2022-11-02T15:02:41.836Z"
   },
   {
    "duration": 13,
    "start_time": "2022-11-02T15:16:19.790Z"
   },
   {
    "duration": 525,
    "start_time": "2022-11-03T06:24:38.211Z"
   },
   {
    "duration": 21,
    "start_time": "2022-11-03T06:24:38.738Z"
   },
   {
    "duration": 14,
    "start_time": "2022-11-03T06:24:38.760Z"
   },
   {
    "duration": 9,
    "start_time": "2022-11-03T06:24:38.776Z"
   },
   {
    "duration": 44,
    "start_time": "2022-11-03T06:24:38.786Z"
   },
   {
    "duration": 3,
    "start_time": "2022-11-03T06:24:38.832Z"
   },
   {
    "duration": 12,
    "start_time": "2022-11-03T06:24:38.836Z"
   },
   {
    "duration": 5,
    "start_time": "2022-11-03T06:24:38.849Z"
   },
   {
    "duration": 9,
    "start_time": "2022-11-03T06:24:38.855Z"
   },
   {
    "duration": 5,
    "start_time": "2022-11-03T06:24:38.867Z"
   },
   {
    "duration": 49,
    "start_time": "2022-11-03T06:24:38.873Z"
   },
   {
    "duration": 10,
    "start_time": "2022-11-03T06:24:38.923Z"
   },
   {
    "duration": 6,
    "start_time": "2022-11-03T06:24:38.935Z"
   },
   {
    "duration": 12,
    "start_time": "2022-11-03T06:24:38.943Z"
   },
   {
    "duration": 18,
    "start_time": "2022-11-03T06:24:38.956Z"
   },
   {
    "duration": 16,
    "start_time": "2022-11-03T06:24:38.976Z"
   },
   {
    "duration": 3,
    "start_time": "2022-11-03T06:24:39.022Z"
   },
   {
    "duration": 27,
    "start_time": "2022-11-03T06:24:39.026Z"
   },
   {
    "duration": 12,
    "start_time": "2022-11-03T06:24:39.055Z"
   },
   {
    "duration": 7,
    "start_time": "2022-11-03T06:24:39.068Z"
   },
   {
    "duration": 17,
    "start_time": "2022-11-03T06:24:39.076Z"
   },
   {
    "duration": 16,
    "start_time": "2022-11-03T06:24:39.095Z"
   },
   {
    "duration": 14,
    "start_time": "2022-11-03T06:24:39.113Z"
   },
   {
    "duration": 10,
    "start_time": "2022-11-03T06:24:39.128Z"
   },
   {
    "duration": 22,
    "start_time": "2022-11-03T06:24:39.140Z"
   },
   {
    "duration": 16,
    "start_time": "2022-11-03T06:24:51.067Z"
   },
   {
    "duration": 16,
    "start_time": "2022-11-03T06:25:10.105Z"
   },
   {
    "duration": 16,
    "start_time": "2022-11-03T06:27:08.643Z"
   },
   {
    "duration": 70,
    "start_time": "2022-11-04T08:46:55.998Z"
   },
   {
    "duration": 73,
    "start_time": "2022-11-04T08:47:42.007Z"
   },
   {
    "duration": 41,
    "start_time": "2022-11-04T08:49:50.062Z"
   },
   {
    "duration": 491,
    "start_time": "2022-11-04T08:50:04.721Z"
   },
   {
    "duration": 453,
    "start_time": "2022-11-04T08:50:14.281Z"
   },
   {
    "duration": 24,
    "start_time": "2022-11-04T08:50:15.417Z"
   },
   {
    "duration": 15,
    "start_time": "2022-11-04T08:50:16.019Z"
   },
   {
    "duration": 10,
    "start_time": "2022-11-04T08:50:16.801Z"
   },
   {
    "duration": 49,
    "start_time": "2022-11-04T08:50:17.128Z"
   },
   {
    "duration": 4,
    "start_time": "2022-11-04T08:50:17.606Z"
   },
   {
    "duration": 9,
    "start_time": "2022-11-04T08:50:17.964Z"
   },
   {
    "duration": 5,
    "start_time": "2022-11-04T08:50:18.476Z"
   },
   {
    "duration": 7,
    "start_time": "2022-11-04T08:50:19.097Z"
   },
   {
    "duration": 5,
    "start_time": "2022-11-04T08:50:19.464Z"
   },
   {
    "duration": 30,
    "start_time": "2022-11-04T08:50:20.001Z"
   },
   {
    "duration": 8,
    "start_time": "2022-11-04T08:50:20.377Z"
   },
   {
    "duration": 4,
    "start_time": "2022-11-04T08:50:20.954Z"
   },
   {
    "duration": 10,
    "start_time": "2022-11-04T08:50:21.543Z"
   },
   {
    "duration": 18,
    "start_time": "2022-11-04T08:50:21.932Z"
   },
   {
    "duration": 16,
    "start_time": "2022-11-04T08:50:22.123Z"
   },
   {
    "duration": 4,
    "start_time": "2022-11-04T08:50:22.754Z"
   },
   {
    "duration": 8,
    "start_time": "2022-11-04T08:50:22.959Z"
   },
   {
    "duration": 5,
    "start_time": "2022-11-04T08:50:23.327Z"
   },
   {
    "duration": 3,
    "start_time": "2022-11-04T08:50:23.877Z"
   },
   {
    "duration": 11,
    "start_time": "2022-11-04T08:50:24.229Z"
   },
   {
    "duration": 18,
    "start_time": "2022-11-04T08:50:25.239Z"
   },
   {
    "duration": 12,
    "start_time": "2022-11-04T08:50:27.269Z"
   },
   {
    "duration": 11,
    "start_time": "2022-11-04T08:50:30.674Z"
   },
   {
    "duration": 905,
    "start_time": "2022-11-04T08:50:33.241Z"
   },
   {
    "duration": 1180,
    "start_time": "2022-11-04T08:51:46.321Z"
   },
   {
    "duration": 1050,
    "start_time": "2022-11-04T08:53:48.552Z"
   },
   {
    "duration": 21,
    "start_time": "2022-11-04T08:54:52.492Z"
   },
   {
    "duration": 91,
    "start_time": "2022-11-04T08:55:04.532Z"
   },
   {
    "duration": 1131,
    "start_time": "2022-11-04T08:55:11.291Z"
   },
   {
    "duration": 17,
    "start_time": "2022-11-04T08:56:12.427Z"
   },
   {
    "duration": 17,
    "start_time": "2022-11-04T08:56:39.341Z"
   },
   {
    "duration": 712,
    "start_time": "2022-11-04T09:48:39.852Z"
   },
   {
    "duration": 22,
    "start_time": "2022-11-04T09:48:40.566Z"
   },
   {
    "duration": 17,
    "start_time": "2022-11-04T09:48:40.589Z"
   },
   {
    "duration": 13,
    "start_time": "2022-11-04T09:48:40.607Z"
   },
   {
    "duration": 56,
    "start_time": "2022-11-04T09:48:40.622Z"
   },
   {
    "duration": 4,
    "start_time": "2022-11-04T09:48:40.680Z"
   },
   {
    "duration": 13,
    "start_time": "2022-11-04T09:48:40.686Z"
   },
   {
    "duration": 4,
    "start_time": "2022-11-04T09:48:40.700Z"
   },
   {
    "duration": 10,
    "start_time": "2022-11-04T09:48:40.706Z"
   },
   {
    "duration": 5,
    "start_time": "2022-11-04T09:48:40.749Z"
   },
   {
    "duration": 39,
    "start_time": "2022-11-04T09:48:40.756Z"
   },
   {
    "duration": 9,
    "start_time": "2022-11-04T09:48:40.797Z"
   },
   {
    "duration": 4,
    "start_time": "2022-11-04T09:48:40.808Z"
   },
   {
    "duration": 29,
    "start_time": "2022-11-04T09:48:40.815Z"
   },
   {
    "duration": 24,
    "start_time": "2022-11-04T09:48:40.845Z"
   },
   {
    "duration": 17,
    "start_time": "2022-11-04T09:48:40.871Z"
   },
   {
    "duration": 3,
    "start_time": "2022-11-04T09:48:40.890Z"
   },
   {
    "duration": 14,
    "start_time": "2022-11-04T09:48:40.895Z"
   },
   {
    "duration": 35,
    "start_time": "2022-11-04T09:48:40.911Z"
   },
   {
    "duration": 4,
    "start_time": "2022-11-04T09:48:40.948Z"
   },
   {
    "duration": 14,
    "start_time": "2022-11-04T09:48:40.954Z"
   },
   {
    "duration": 17,
    "start_time": "2022-11-04T09:48:40.969Z"
   },
   {
    "duration": 9,
    "start_time": "2022-11-04T09:48:40.988Z"
   },
   {
    "duration": 11,
    "start_time": "2022-11-04T09:48:40.998Z"
   },
   {
    "duration": 50,
    "start_time": "2022-11-04T09:48:41.010Z"
   },
   {
    "duration": 19,
    "start_time": "2022-11-04T09:48:41.062Z"
   },
   {
    "duration": 7,
    "start_time": "2022-11-04T09:48:54.974Z"
   },
   {
    "duration": 17,
    "start_time": "2022-11-04T09:50:05.664Z"
   },
   {
    "duration": 15,
    "start_time": "2022-11-04T09:50:18.257Z"
   },
   {
    "duration": 75,
    "start_time": "2022-11-04T09:50:36.073Z"
   },
   {
    "duration": 6,
    "start_time": "2022-11-04T09:50:38.563Z"
   },
   {
    "duration": 713,
    "start_time": "2022-11-04T15:55:19.931Z"
   },
   {
    "duration": 26,
    "start_time": "2022-11-04T15:55:20.646Z"
   },
   {
    "duration": 23,
    "start_time": "2022-11-04T15:55:20.674Z"
   },
   {
    "duration": 11,
    "start_time": "2022-11-04T15:55:20.699Z"
   },
   {
    "duration": 52,
    "start_time": "2022-11-04T15:55:20.711Z"
   },
   {
    "duration": 3,
    "start_time": "2022-11-04T15:55:20.765Z"
   },
   {
    "duration": 20,
    "start_time": "2022-11-04T15:55:20.770Z"
   },
   {
    "duration": 4,
    "start_time": "2022-11-04T15:55:20.791Z"
   },
   {
    "duration": 19,
    "start_time": "2022-11-04T15:55:20.797Z"
   },
   {
    "duration": 13,
    "start_time": "2022-11-04T15:55:20.820Z"
   },
   {
    "duration": 59,
    "start_time": "2022-11-04T15:55:20.835Z"
   },
   {
    "duration": 10,
    "start_time": "2022-11-04T15:55:20.896Z"
   },
   {
    "duration": 15,
    "start_time": "2022-11-04T15:55:20.907Z"
   },
   {
    "duration": 32,
    "start_time": "2022-11-04T15:55:20.923Z"
   },
   {
    "duration": 21,
    "start_time": "2022-11-04T15:55:20.957Z"
   },
   {
    "duration": 28,
    "start_time": "2022-11-04T15:55:20.979Z"
   },
   {
    "duration": 13,
    "start_time": "2022-11-04T15:55:21.009Z"
   },
   {
    "duration": 27,
    "start_time": "2022-11-04T15:55:21.023Z"
   },
   {
    "duration": 29,
    "start_time": "2022-11-04T15:55:21.051Z"
   },
   {
    "duration": 5,
    "start_time": "2022-11-04T15:55:21.081Z"
   },
   {
    "duration": 46,
    "start_time": "2022-11-04T15:55:21.088Z"
   },
   {
    "duration": 29,
    "start_time": "2022-11-04T15:55:21.136Z"
   },
   {
    "duration": 14,
    "start_time": "2022-11-04T15:55:21.166Z"
   },
   {
    "duration": 23,
    "start_time": "2022-11-04T15:55:21.181Z"
   },
   {
    "duration": 22,
    "start_time": "2022-11-04T15:55:21.206Z"
   },
   {
    "duration": 11,
    "start_time": "2022-11-04T15:55:21.230Z"
   },
   {
    "duration": 26,
    "start_time": "2022-11-04T15:55:21.243Z"
   },
   {
    "duration": 15,
    "start_time": "2022-11-04T15:55:58.959Z"
   },
   {
    "duration": 3,
    "start_time": "2022-11-04T15:56:07.530Z"
   },
   {
    "duration": 32,
    "start_time": "2022-11-04T15:56:10.239Z"
   },
   {
    "duration": 22,
    "start_time": "2022-11-04T15:56:58.614Z"
   },
   {
    "duration": 43,
    "start_time": "2022-11-05T11:46:23.013Z"
   },
   {
    "duration": 490,
    "start_time": "2022-11-05T11:46:36.103Z"
   },
   {
    "duration": 21,
    "start_time": "2022-11-05T11:46:36.686Z"
   },
   {
    "duration": 14,
    "start_time": "2022-11-05T11:46:37.026Z"
   },
   {
    "duration": 9,
    "start_time": "2022-11-05T11:46:37.703Z"
   },
   {
    "duration": 36,
    "start_time": "2022-11-05T11:46:38.032Z"
   },
   {
    "duration": 4,
    "start_time": "2022-11-05T11:46:38.548Z"
   },
   {
    "duration": 8,
    "start_time": "2022-11-05T11:46:38.927Z"
   },
   {
    "duration": 4,
    "start_time": "2022-11-05T11:46:39.469Z"
   },
   {
    "duration": 6,
    "start_time": "2022-11-05T11:46:39.821Z"
   },
   {
    "duration": 5,
    "start_time": "2022-11-05T11:46:40.177Z"
   },
   {
    "duration": 30,
    "start_time": "2022-11-05T11:46:40.675Z"
   },
   {
    "duration": 9,
    "start_time": "2022-11-05T11:46:41.013Z"
   },
   {
    "duration": 4,
    "start_time": "2022-11-05T11:46:41.542Z"
   },
   {
    "duration": 9,
    "start_time": "2022-11-05T11:46:42.387Z"
   },
   {
    "duration": 17,
    "start_time": "2022-11-05T11:46:42.982Z"
   },
   {
    "duration": 15,
    "start_time": "2022-11-05T11:46:43.455Z"
   },
   {
    "duration": 3,
    "start_time": "2022-11-05T11:46:49.839Z"
   },
   {
    "duration": 9,
    "start_time": "2022-11-05T11:46:50.077Z"
   },
   {
    "duration": 6,
    "start_time": "2022-11-05T11:46:50.442Z"
   },
   {
    "duration": 3,
    "start_time": "2022-11-05T11:46:50.805Z"
   },
   {
    "duration": 10,
    "start_time": "2022-11-05T11:46:50.980Z"
   },
   {
    "duration": 17,
    "start_time": "2022-11-05T11:46:51.653Z"
   },
   {
    "duration": 9,
    "start_time": "2022-11-05T11:46:53.575Z"
   },
   {
    "duration": 10,
    "start_time": "2022-11-05T11:46:55.299Z"
   },
   {
    "duration": 1226,
    "start_time": "2022-11-05T11:46:57.753Z"
   },
   {
    "duration": 1083,
    "start_time": "2022-11-05T11:48:39.025Z"
   },
   {
    "duration": 10,
    "start_time": "2022-11-05T11:48:49.691Z"
   },
   {
    "duration": 1127,
    "start_time": "2022-11-05T11:48:57.617Z"
   },
   {
    "duration": 1248,
    "start_time": "2022-11-05T11:50:11.911Z"
   },
   {
    "duration": 1204,
    "start_time": "2022-11-05T11:50:38.496Z"
   },
   {
    "duration": 1134,
    "start_time": "2022-11-05T11:55:32.799Z"
   },
   {
    "duration": 451,
    "start_time": "2022-11-05T11:56:48.095Z"
   },
   {
    "duration": 20,
    "start_time": "2022-11-05T11:56:48.916Z"
   },
   {
    "duration": 13,
    "start_time": "2022-11-05T11:56:49.639Z"
   },
   {
    "duration": 9,
    "start_time": "2022-11-05T11:56:50.927Z"
   },
   {
    "duration": 29,
    "start_time": "2022-11-05T11:56:51.574Z"
   },
   {
    "duration": 4,
    "start_time": "2022-11-05T11:56:52.161Z"
   },
   {
    "duration": 8,
    "start_time": "2022-11-05T11:56:52.504Z"
   },
   {
    "duration": 4,
    "start_time": "2022-11-05T11:56:53.004Z"
   },
   {
    "duration": 6,
    "start_time": "2022-11-05T11:56:53.356Z"
   },
   {
    "duration": 4,
    "start_time": "2022-11-05T11:56:53.718Z"
   },
   {
    "duration": 28,
    "start_time": "2022-11-05T11:56:54.279Z"
   },
   {
    "duration": 9,
    "start_time": "2022-11-05T11:56:54.676Z"
   },
   {
    "duration": 4,
    "start_time": "2022-11-05T11:56:55.251Z"
   },
   {
    "duration": 10,
    "start_time": "2022-11-05T11:56:55.811Z"
   },
   {
    "duration": 18,
    "start_time": "2022-11-05T11:56:56.176Z"
   },
   {
    "duration": 15,
    "start_time": "2022-11-05T11:56:56.368Z"
   },
   {
    "duration": 3,
    "start_time": "2022-11-05T11:56:56.918Z"
   },
   {
    "duration": 9,
    "start_time": "2022-11-05T11:56:57.148Z"
   },
   {
    "duration": 6,
    "start_time": "2022-11-05T11:56:57.685Z"
   },
   {
    "duration": 3,
    "start_time": "2022-11-05T11:56:59.160Z"
   },
   {
    "duration": 12,
    "start_time": "2022-11-05T11:57:00.090Z"
   },
   {
    "duration": 18,
    "start_time": "2022-11-05T11:57:01.663Z"
   },
   {
    "duration": 10,
    "start_time": "2022-11-05T11:57:03.145Z"
   },
   {
    "duration": 10,
    "start_time": "2022-11-05T11:57:04.628Z"
   },
   {
    "duration": 1204,
    "start_time": "2022-11-05T11:57:06.428Z"
   },
   {
    "duration": 3,
    "start_time": "2022-11-05T11:58:05.507Z"
   },
   {
    "duration": 11,
    "start_time": "2022-11-05T11:58:06.691Z"
   },
   {
    "duration": 4,
    "start_time": "2022-11-05T11:58:22.085Z"
   },
   {
    "duration": 10,
    "start_time": "2022-11-05T11:58:22.659Z"
   },
   {
    "duration": 18,
    "start_time": "2022-11-05T11:58:30.251Z"
   },
   {
    "duration": 9,
    "start_time": "2022-11-05T11:58:31.380Z"
   },
   {
    "duration": 10,
    "start_time": "2022-11-05T11:58:32.594Z"
   },
   {
    "duration": 1083,
    "start_time": "2022-11-05T11:58:34.257Z"
   },
   {
    "duration": 1121,
    "start_time": "2022-11-05T11:59:05.180Z"
   },
   {
    "duration": 1083,
    "start_time": "2022-11-05T12:00:55.263Z"
   },
   {
    "duration": 1119,
    "start_time": "2022-11-05T12:02:01.310Z"
   },
   {
    "duration": 1288,
    "start_time": "2022-11-05T12:02:22.376Z"
   },
   {
    "duration": 3,
    "start_time": "2022-11-05T12:10:09.472Z"
   },
   {
    "duration": 11,
    "start_time": "2022-11-05T12:10:10.331Z"
   },
   {
    "duration": 3,
    "start_time": "2022-11-05T12:10:25.856Z"
   },
   {
    "duration": 9,
    "start_time": "2022-11-05T12:10:26.319Z"
   },
   {
    "duration": 1227,
    "start_time": "2022-11-05T12:10:35.786Z"
   },
   {
    "duration": 1099,
    "start_time": "2022-11-05T12:12:15.686Z"
   },
   {
    "duration": 0,
    "start_time": "2022-11-05T12:12:16.787Z"
   },
   {
    "duration": 1155,
    "start_time": "2022-11-05T12:13:31.610Z"
   },
   {
    "duration": 1147,
    "start_time": "2022-11-05T12:14:11.272Z"
   },
   {
    "duration": 3,
    "start_time": "2022-11-05T12:16:16.918Z"
   },
   {
    "duration": 14,
    "start_time": "2022-11-05T12:16:17.445Z"
   },
   {
    "duration": 1177,
    "start_time": "2022-11-05T12:16:30.740Z"
   },
   {
    "duration": 1179,
    "start_time": "2022-11-05T12:16:50.291Z"
   },
   {
    "duration": 1117,
    "start_time": "2022-11-05T12:17:13.307Z"
   },
   {
    "duration": 1132,
    "start_time": "2022-11-05T12:17:22.022Z"
   },
   {
    "duration": 1103,
    "start_time": "2022-11-05T12:19:45.769Z"
   },
   {
    "duration": 1186,
    "start_time": "2022-11-05T12:21:18.973Z"
   },
   {
    "duration": 1104,
    "start_time": "2022-11-05T12:21:26.624Z"
   },
   {
    "duration": 1110,
    "start_time": "2022-11-05T12:23:12.814Z"
   },
   {
    "duration": 1101,
    "start_time": "2022-11-05T12:23:26.018Z"
   },
   {
    "duration": 4,
    "start_time": "2022-11-05T12:26:11.233Z"
   },
   {
    "duration": 12,
    "start_time": "2022-11-05T12:26:11.777Z"
   },
   {
    "duration": 16,
    "start_time": "2022-11-05T12:26:14.077Z"
   },
   {
    "duration": 9,
    "start_time": "2022-11-05T12:26:15.755Z"
   },
   {
    "duration": 11,
    "start_time": "2022-11-05T12:26:16.956Z"
   },
   {
    "duration": 1117,
    "start_time": "2022-11-05T12:26:18.385Z"
   },
   {
    "duration": 44,
    "start_time": "2022-11-05T12:26:29.712Z"
   },
   {
    "duration": 450,
    "start_time": "2022-11-05T12:26:39.192Z"
   },
   {
    "duration": 20,
    "start_time": "2022-11-05T12:26:40.427Z"
   },
   {
    "duration": 13,
    "start_time": "2022-11-05T12:26:41.253Z"
   },
   {
    "duration": 10,
    "start_time": "2022-11-05T12:26:42.703Z"
   },
   {
    "duration": 30,
    "start_time": "2022-11-05T12:26:43.305Z"
   },
   {
    "duration": 4,
    "start_time": "2022-11-05T12:26:43.830Z"
   },
   {
    "duration": 7,
    "start_time": "2022-11-05T12:26:44.150Z"
   },
   {
    "duration": 5,
    "start_time": "2022-11-05T12:26:44.667Z"
   },
   {
    "duration": 7,
    "start_time": "2022-11-05T12:26:44.981Z"
   },
   {
    "duration": 5,
    "start_time": "2022-11-05T12:26:45.349Z"
   },
   {
    "duration": 30,
    "start_time": "2022-11-05T12:26:45.902Z"
   },
   {
    "duration": 10,
    "start_time": "2022-11-05T12:26:46.521Z"
   },
   {
    "duration": 4,
    "start_time": "2022-11-05T12:26:47.161Z"
   },
   {
    "duration": 11,
    "start_time": "2022-11-05T12:26:47.690Z"
   },
   {
    "duration": 18,
    "start_time": "2022-11-05T12:26:48.051Z"
   },
   {
    "duration": 15,
    "start_time": "2022-11-05T12:26:48.216Z"
   },
   {
    "duration": 3,
    "start_time": "2022-11-05T12:26:48.769Z"
   },
   {
    "duration": 9,
    "start_time": "2022-11-05T12:26:48.988Z"
   },
   {
    "duration": 5,
    "start_time": "2022-11-05T12:26:49.464Z"
   },
   {
    "duration": 3,
    "start_time": "2022-11-05T12:26:50.178Z"
   },
   {
    "duration": 10,
    "start_time": "2022-11-05T12:26:50.502Z"
   },
   {
    "duration": 19,
    "start_time": "2022-11-05T12:26:51.557Z"
   },
   {
    "duration": 9,
    "start_time": "2022-11-05T12:26:53.585Z"
   },
   {
    "duration": 10,
    "start_time": "2022-11-05T12:26:55.272Z"
   },
   {
    "duration": 1108,
    "start_time": "2022-11-05T12:26:57.557Z"
   },
   {
    "duration": 9,
    "start_time": "2022-11-05T12:27:17.255Z"
   },
   {
    "duration": 8,
    "start_time": "2022-11-05T12:27:30.508Z"
   },
   {
    "duration": 7,
    "start_time": "2022-11-05T12:27:33.586Z"
   },
   {
    "duration": 17,
    "start_time": "2022-11-05T12:27:34.160Z"
   },
   {
    "duration": 9,
    "start_time": "2022-11-05T12:27:35.258Z"
   },
   {
    "duration": 10,
    "start_time": "2022-11-05T12:27:36.283Z"
   },
   {
    "duration": 1159,
    "start_time": "2022-11-05T12:27:37.862Z"
   },
   {
    "duration": 1096,
    "start_time": "2022-11-05T12:29:19.299Z"
   },
   {
    "duration": 3,
    "start_time": "2022-11-05T12:41:58.834Z"
   },
   {
    "duration": 7,
    "start_time": "2022-11-05T12:41:58.992Z"
   },
   {
    "duration": 10,
    "start_time": "2022-11-05T12:42:16.958Z"
   },
   {
    "duration": 1106,
    "start_time": "2022-11-05T12:42:25.719Z"
   },
   {
    "duration": 1407,
    "start_time": "2022-11-05T12:42:44.078Z"
   },
   {
    "duration": 1135,
    "start_time": "2022-11-05T12:43:28.017Z"
   },
   {
    "duration": 1119,
    "start_time": "2022-11-05T12:43:39.004Z"
   },
   {
    "duration": 18,
    "start_time": "2022-11-05T12:45:31.965Z"
   },
   {
    "duration": 1102,
    "start_time": "2022-11-05T12:45:48.711Z"
   },
   {
    "duration": 1111,
    "start_time": "2022-11-05T12:46:02.599Z"
   },
   {
    "duration": 1116,
    "start_time": "2022-11-05T12:46:42.394Z"
   },
   {
    "duration": 1176,
    "start_time": "2022-11-05T12:47:05.159Z"
   },
   {
    "duration": 7,
    "start_time": "2022-11-05T12:47:40.490Z"
   },
   {
    "duration": 1119,
    "start_time": "2022-11-05T12:47:58.060Z"
   },
   {
    "duration": 1141,
    "start_time": "2022-11-05T12:48:32.051Z"
   },
   {
    "duration": 6,
    "start_time": "2022-11-05T12:48:52.043Z"
   },
   {
    "duration": 1148,
    "start_time": "2022-11-05T12:52:09.798Z"
   },
   {
    "duration": 1096,
    "start_time": "2022-11-05T12:56:04.113Z"
   },
   {
    "duration": 22,
    "start_time": "2022-11-05T12:59:06.321Z"
   },
   {
    "duration": 90,
    "start_time": "2022-11-05T13:04:29.317Z"
   },
   {
    "duration": 76,
    "start_time": "2022-11-05T13:04:35.582Z"
   },
   {
    "duration": 1162,
    "start_time": "2022-11-05T13:04:41.179Z"
   },
   {
    "duration": 1175,
    "start_time": "2022-11-05T13:04:47.827Z"
   },
   {
    "duration": 1137,
    "start_time": "2022-11-05T13:08:22.157Z"
   },
   {
    "duration": 518,
    "start_time": "2022-11-06T06:27:45.479Z"
   },
   {
    "duration": 29,
    "start_time": "2022-11-06T06:27:46.000Z"
   },
   {
    "duration": 19,
    "start_time": "2022-11-06T06:27:46.030Z"
   },
   {
    "duration": 10,
    "start_time": "2022-11-06T06:27:46.052Z"
   },
   {
    "duration": 47,
    "start_time": "2022-11-06T06:27:46.063Z"
   },
   {
    "duration": 3,
    "start_time": "2022-11-06T06:27:46.112Z"
   },
   {
    "duration": 9,
    "start_time": "2022-11-06T06:27:46.117Z"
   },
   {
    "duration": 4,
    "start_time": "2022-11-06T06:27:46.128Z"
   },
   {
    "duration": 7,
    "start_time": "2022-11-06T06:27:46.133Z"
   },
   {
    "duration": 4,
    "start_time": "2022-11-06T06:27:46.144Z"
   },
   {
    "duration": 60,
    "start_time": "2022-11-06T06:27:46.149Z"
   },
   {
    "duration": 9,
    "start_time": "2022-11-06T06:27:46.210Z"
   },
   {
    "duration": 6,
    "start_time": "2022-11-06T06:27:46.220Z"
   },
   {
    "duration": 13,
    "start_time": "2022-11-06T06:27:46.228Z"
   },
   {
    "duration": 18,
    "start_time": "2022-11-06T06:27:46.242Z"
   },
   {
    "duration": 36,
    "start_time": "2022-11-06T06:27:46.261Z"
   },
   {
    "duration": 3,
    "start_time": "2022-11-06T06:27:46.299Z"
   },
   {
    "duration": 12,
    "start_time": "2022-11-06T06:27:46.304Z"
   },
   {
    "duration": 12,
    "start_time": "2022-11-06T06:27:46.318Z"
   },
   {
    "duration": 3,
    "start_time": "2022-11-06T06:27:46.332Z"
   },
   {
    "duration": 15,
    "start_time": "2022-11-06T06:27:46.337Z"
   },
   {
    "duration": 45,
    "start_time": "2022-11-06T06:27:46.354Z"
   },
   {
    "duration": 11,
    "start_time": "2022-11-06T06:27:46.400Z"
   },
   {
    "duration": 12,
    "start_time": "2022-11-06T06:27:46.413Z"
   },
   {
    "duration": 1708,
    "start_time": "2022-11-06T06:27:46.426Z"
   },
   {
    "duration": 0,
    "start_time": "2022-11-06T06:27:48.136Z"
   },
   {
    "duration": 0,
    "start_time": "2022-11-06T06:27:48.137Z"
   },
   {
    "duration": 9,
    "start_time": "2022-11-06T06:28:01.471Z"
   },
   {
    "duration": 1720,
    "start_time": "2022-11-06T06:29:56.165Z"
   },
   {
    "duration": 6,
    "start_time": "2022-11-06T06:30:01.311Z"
   },
   {
    "duration": 5,
    "start_time": "2022-11-06T06:30:10.748Z"
   },
   {
    "duration": 1668,
    "start_time": "2022-11-06T06:30:20.576Z"
   },
   {
    "duration": 8,
    "start_time": "2022-11-06T06:30:29.192Z"
   },
   {
    "duration": 10,
    "start_time": "2022-11-06T06:30:45.898Z"
   },
   {
    "duration": 28,
    "start_time": "2022-11-06T06:30:46.401Z"
   }
  ],
  "colab": {
   "name": "dpp_template_part2.ipynb",
   "provenance": []
  },
  "kernelspec": {
   "display_name": "Python 3 (ipykernel)",
   "language": "python",
   "name": "python3"
  },
  "language_info": {
   "codemirror_mode": {
    "name": "ipython",
    "version": 3
   },
   "file_extension": ".py",
   "mimetype": "text/x-python",
   "name": "python",
   "nbconvert_exporter": "python",
   "pygments_lexer": "ipython3",
   "version": "3.9.5"
  },
  "toc": {
   "base_numbering": 1,
   "nav_menu": {},
   "number_sections": true,
   "sideBar": true,
   "skip_h1_title": true,
   "title_cell": "Table of Contents",
   "title_sidebar": "Contents",
   "toc_cell": false,
   "toc_position": {},
   "toc_section_display": true,
   "toc_window_display": false
  }
 },
 "nbformat": 4,
 "nbformat_minor": 5
}
